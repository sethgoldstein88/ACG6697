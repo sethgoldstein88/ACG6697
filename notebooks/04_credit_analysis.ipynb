{
 "cells": [
  {
   "cell_type": "markdown",
   "metadata": {},
   "source": [
    "# Requirements 4 & 5: Credit Limit Analysis\n",
    "\n",
    "---\n",
    "\n",
    "## ANSWER TO REQUIREMENTS\n",
    "\n",
    "**Requirement 4: Were any sales made to distributors without an established credit limit?**\n",
    "\n",
    "**NO EXCEPTIONS FOUND.** All 1,158 sales transactions in 2017 were made to customers with established credit limits in the Customer Master file. All 73 distributors have documented credit limits ranging from $50,000 to $500,000.\n",
    "\n",
    "**Requirement 5: Do any customers have AR balances exceeding their authorized credit limit as of 12/31/17?**\n",
    "\n",
    "**NO EXCEPTIONS FOUND.** All 60 customers with outstanding AR balances as of December 31, 2017 are within their authorized credit limits. The highest credit utilization observed is 99.4% (Hurricane Hospital Supply with $397,715 AR against $400,000 limit).\n",
    "\n",
    "### Key Findings:\n",
    "\n",
    "- **Finding 1:** **Control #2 (Credit Limit Establishment) is EFFECTIVE** - All 73 distributors have established credit limits before sales occurred\n",
    "- **Finding 2:** **Control #3 (Sales Authorization) is EFFECTIVE** - No sales were authorized that would cause customers to exceed credit limits\n",
    "- **Finding 3:** **High credit utilization exists** - 10 customers (16.7% of those with AR) have credit utilization >80%, indicating potential collection risk even though limits not exceeded\n",
    "\n",
    "### Credit Utilization Analysis:\n",
    "\n",
    "- Customers with AR: 60 of 73 distributors (82.2%)\n",
    "- Average credit utilization: 51.3%\n",
    "- Customers >80% utilized: 10 (Hurricane Hospital Supply, Luckytechs, Griffintube, etc.)\n",
    "- Customers <20% utilized: 17 (conservative credit management)\n",
    "\n",
    "### Recommended Actions:\n",
    "\n",
    "**Despite no exceptions, auditors should:**\n",
    "- Review high-utilization customers (>80%) for collectibility concerns\n",
    "- Consider whether credit limits are appropriate given Q4 2017 sales spike\n",
    "- Test whether credit controls could have been overridden during roll-forward period\n",
    "- Investigate if credit limits were increased during Q4 2017 to accommodate higher sales\n",
    "- Confirm credit limits haven't been retroactively adjusted after year-end\n",
    "\n",
    "---\n",
    "\n",
    "## Data Sources\n",
    "\n",
    "- `UMD_Data Set_Sales Orders.xlsx` - Sales transactions with credit approval flags\n",
    "- `UMD_Data Set_Customer Master.xlsx` - Customer credit limits\n",
    "- `UMD_Data Set_Customer Invoices.xlsx` - Invoice payment status for AR balances\n",
    "\n",
    "## Outputs Generated\n",
    "\n",
    "- `outputs/tables/sales_without_credit_limits.csv` - No exceptions found\n",
    "- `outputs/tables/ar_exceeding_credit_limits.csv` - No exceptions found\n",
    "- `outputs/tables/ar_credit_analysis_full.csv` - Complete AR analysis with utilization metrics\n",
    "- `outputs/figures/credit_analysis.png` - Visualization of credit patterns and utilization\n"
   ]
  },
  {
   "cell_type": "markdown",
   "metadata": {},
   "source": [
    "## Setup & Data Loading\n"
   ]
  },
  {
   "cell_type": "code",
   "execution_count": 1,
   "metadata": {
    "execution": {
     "iopub.execute_input": "2025-10-02T20:00:21.270490Z",
     "iopub.status.busy": "2025-10-02T20:00:21.270235Z",
     "iopub.status.idle": "2025-10-02T20:00:22.455983Z",
     "shell.execute_reply": "2025-10-02T20:00:22.455537Z"
    }
   },
   "outputs": [
    {
     "name": "stdout",
     "output_type": "stream",
     "text": [
      "Libraries loaded successfully\n"
     ]
    }
   ],
   "source": [
    "import pandas as pd\n",
    "import numpy as np\n",
    "import matplotlib.pyplot as plt\n",
    "import seaborn as sns\n",
    "import sys\n",
    "from pathlib import Path\n",
    "\n",
    "# Add src to path for imports\n",
    "sys.path.append(str(Path.cwd().parent))\n",
    "\n",
    "from src.data_loader import UMDDataLoader\n",
    "\n",
    "# Configure display options\n",
    "pd.set_option('display.max_columns', None)\n",
    "pd.set_option('display.max_rows', 100)\n",
    "pd.set_option('display.float_format', lambda x: f'${x:,.2f}' if abs(x) >= 1 else f'{x:.4f}')\n",
    "\n",
    "# Set plot style\n",
    "sns.set_style(\"whitegrid\")\n",
    "plt.rcParams['figure.figsize'] = (14, 8)\n",
    "plt.rcParams['font.size'] = 10\n",
    "\n",
    "print(\"Libraries loaded successfully\")\n"
   ]
  },
  {
   "cell_type": "code",
   "execution_count": 2,
   "metadata": {
    "execution": {
     "iopub.execute_input": "2025-10-02T20:00:22.485921Z",
     "iopub.status.busy": "2025-10-02T20:00:22.485667Z",
     "iopub.status.idle": "2025-10-02T20:00:22.956056Z",
     "shell.execute_reply": "2025-10-02T20:00:22.955705Z"
    }
   },
   "outputs": [
    {
     "name": "stderr",
     "output_type": "stream",
     "text": [
      "2025-10-02 16:00:22,487 - src.data_loader - INFO - Attempting to load UMD_Data Set_Sales Orders.xlsx...\n"
     ]
    },
    {
     "name": "stderr",
     "output_type": "stream",
     "text": [
      "2025-10-02 16:00:22,487 - src.data_loader - INFO - File size: 138,506 bytes\n"
     ]
    },
    {
     "name": "stderr",
     "output_type": "stream",
     "text": [
      "2025-10-02 16:00:22,711 - src.data_loader - INFO - ✓ Successfully loaded 1,168 records from UMD_Data Set_Sales Orders.xlsx\n"
     ]
    },
    {
     "name": "stderr",
     "output_type": "stream",
     "text": [
      "2025-10-02 16:00:22,711 - src.data_loader - INFO -   Original columns: 16, Cleaned columns: 16\n"
     ]
    },
    {
     "name": "stderr",
     "output_type": "stream",
     "text": [
      "2025-10-02 16:00:22,712 - src.data_loader - INFO - Attempting to load UMD_Data Set_Shipments.xlsx...\n"
     ]
    },
    {
     "name": "stderr",
     "output_type": "stream",
     "text": [
      "2025-10-02 16:00:22,712 - src.data_loader - INFO - File size: 71,824 bytes\n"
     ]
    },
    {
     "name": "stderr",
     "output_type": "stream",
     "text": [
      "2025-10-02 16:00:22,791 - src.data_loader - INFO - ✓ Successfully loaded 1,165 records from UMD_Data Set_Shipments.xlsx\n"
     ]
    },
    {
     "name": "stderr",
     "output_type": "stream",
     "text": [
      "2025-10-02 16:00:22,792 - src.data_loader - INFO -   Original columns: 7, Cleaned columns: 7\n"
     ]
    },
    {
     "name": "stderr",
     "output_type": "stream",
     "text": [
      "2025-10-02 16:00:22,792 - src.data_loader - INFO - Attempting to load UMD_Data Set_Customer Invoices.xlsx...\n"
     ]
    },
    {
     "name": "stderr",
     "output_type": "stream",
     "text": [
      "2025-10-02 16:00:22,793 - src.data_loader - INFO - File size: 72,567 bytes\n"
     ]
    },
    {
     "name": "stderr",
     "output_type": "stream",
     "text": [
      "2025-10-02 16:00:22,872 - src.data_loader - INFO - ✓ Successfully loaded 1,167 records from UMD_Data Set_Customer Invoices.xlsx\n"
     ]
    },
    {
     "name": "stderr",
     "output_type": "stream",
     "text": [
      "2025-10-02 16:00:22,872 - src.data_loader - INFO -   Original columns: 7, Cleaned columns: 7\n"
     ]
    },
    {
     "name": "stderr",
     "output_type": "stream",
     "text": [
      "2025-10-02 16:00:22,872 - src.data_loader - INFO - Attempting to load UMD_Data Set_Customer Master.xlsx...\n"
     ]
    },
    {
     "name": "stderr",
     "output_type": "stream",
     "text": [
      "2025-10-02 16:00:22,873 - src.data_loader - INFO - File size: 16,538 bytes\n"
     ]
    },
    {
     "name": "stderr",
     "output_type": "stream",
     "text": [
      "2025-10-02 16:00:22,888 - src.data_loader - INFO - ✓ Successfully loaded 73 records from UMD_Data Set_Customer Master.xlsx\n"
     ]
    },
    {
     "name": "stderr",
     "output_type": "stream",
     "text": [
      "2025-10-02 16:00:22,888 - src.data_loader - INFO -   Original columns: 8, Cleaned columns: 8\n"
     ]
    },
    {
     "name": "stderr",
     "output_type": "stream",
     "text": [
      "2025-10-02 16:00:22,889 - src.data_loader - INFO - Attempting to load UMD_Data Set_Products.xlsx...\n"
     ]
    },
    {
     "name": "stderr",
     "output_type": "stream",
     "text": [
      "2025-10-02 16:00:22,889 - src.data_loader - INFO - File size: 9,791 bytes\n"
     ]
    },
    {
     "name": "stderr",
     "output_type": "stream",
     "text": [
      "2025-10-02 16:00:22,897 - src.data_loader - INFO - ✓ Successfully loaded 14 records from UMD_Data Set_Products.xlsx\n"
     ]
    },
    {
     "name": "stderr",
     "output_type": "stream",
     "text": [
      "2025-10-02 16:00:22,898 - src.data_loader - INFO -   Original columns: 11, Cleaned columns: 11\n"
     ]
    },
    {
     "name": "stderr",
     "output_type": "stream",
     "text": [
      "2025-10-02 16:00:22,898 - src.data_loader - INFO - Attempting to load UMD_Data Set_Sales Territory.xlsx...\n"
     ]
    },
    {
     "name": "stderr",
     "output_type": "stream",
     "text": [
      "2025-10-02 16:00:22,899 - src.data_loader - INFO - File size: 10,635 bytes\n"
     ]
    },
    {
     "name": "stderr",
     "output_type": "stream",
     "text": [
      "2025-10-02 16:00:22,904 - src.data_loader - INFO - ✓ Successfully loaded 5 records from UMD_Data Set_Sales Territory.xlsx\n"
     ]
    },
    {
     "name": "stderr",
     "output_type": "stream",
     "text": [
      "2025-10-02 16:00:22,904 - src.data_loader - INFO -   Original columns: 6, Cleaned columns: 6\n"
     ]
    },
    {
     "name": "stderr",
     "output_type": "stream",
     "text": [
      "2025-10-02 16:00:22,904 - src.data_loader - INFO - Loading complete: 6 files loaded successfully, 0 files failed\n"
     ]
    },
    {
     "name": "stderr",
     "output_type": "stream",
     "text": [
      "2025-10-02 16:00:22,905 - src.data_loader - INFO - Starting data type cleaning process...\n"
     ]
    },
    {
     "name": "stderr",
     "output_type": "stream",
     "text": [
      "2025-10-02 16:00:22,905 - src.data_loader - INFO - Cleaning sales_orders data types...\n"
     ]
    },
    {
     "name": "stderr",
     "output_type": "stream",
     "text": [
      "2025-10-02 16:00:22,909 - src.data_loader - INFO -   OrderDate: Converted from object to datetime, 1168 valid values\n"
     ]
    },
    {
     "name": "stderr",
     "output_type": "stream",
     "text": [
      "2025-10-02 16:00:22,911 - src.data_loader - INFO -   ModifiedDate: Converted from object to datetime, 1168 valid values\n"
     ]
    },
    {
     "name": "stderr",
     "output_type": "stream",
     "text": [
      "2025-10-02 16:00:22,912 - src.data_loader - INFO -   SalesOrderID: Converted from object to numeric, 1168 valid values\n"
     ]
    },
    {
     "name": "stderr",
     "output_type": "stream",
     "text": [
      "2025-10-02 16:00:22,914 - src.data_loader - INFO -   ProdID: Converted from object to numeric, 1168 valid values\n"
     ]
    },
    {
     "name": "stderr",
     "output_type": "stream",
     "text": [
      "2025-10-02 16:00:22,915 - src.data_loader - INFO -   CustID: Converted from object to numeric, 1168 valid values\n"
     ]
    },
    {
     "name": "stderr",
     "output_type": "stream",
     "text": [
      "2025-10-02 16:00:22,916 - src.data_loader - INFO -   TerritoryID: Converted from object to numeric, 1168 valid values\n"
     ]
    },
    {
     "name": "stderr",
     "output_type": "stream",
     "text": [
      "2025-10-02 16:00:22,917 - src.data_loader - INFO -   Quantity: Converted from object to numeric, 1168 valid values\n"
     ]
    },
    {
     "name": "stderr",
     "output_type": "stream",
     "text": [
      "2025-10-02 16:00:22,918 - src.data_loader - INFO -   UnitPrice: Converted from object to numeric, 1168 valid values\n"
     ]
    },
    {
     "name": "stderr",
     "output_type": "stream",
     "text": [
      "2025-10-02 16:00:22,919 - src.data_loader - INFO -   SubTotal: Converted from object to numeric, 1168 valid values\n"
     ]
    },
    {
     "name": "stderr",
     "output_type": "stream",
     "text": [
      "2025-10-02 16:00:22,920 - src.data_loader - INFO -   TaxAmt: Converted from object to numeric, 1168 valid values\n"
     ]
    },
    {
     "name": "stderr",
     "output_type": "stream",
     "text": [
      "2025-10-02 16:00:22,921 - src.data_loader - INFO -   Freight: Converted from object to numeric, 1168 valid values\n"
     ]
    },
    {
     "name": "stderr",
     "output_type": "stream",
     "text": [
      "2025-10-02 16:00:22,922 - src.data_loader - INFO -   TotalDue: Converted from object to numeric, 1168 valid values\n"
     ]
    },
    {
     "name": "stderr",
     "output_type": "stream",
     "text": [
      "2025-10-02 16:00:22,923 - src.data_loader - INFO -   ShipID: Converted from object to numeric, 1168 valid values\n"
     ]
    },
    {
     "name": "stderr",
     "output_type": "stream",
     "text": [
      "2025-10-02 16:00:22,924 - src.data_loader - INFO -   InvoiceID: Converted from object to numeric, 1168 valid values\n"
     ]
    },
    {
     "name": "stderr",
     "output_type": "stream",
     "text": [
      "2025-10-02 16:00:22,927 - src.data_loader - INFO -   ModifiedTime: Processed time column, created ModifiedHour\n"
     ]
    },
    {
     "name": "stderr",
     "output_type": "stream",
     "text": [
      "2025-10-02 16:00:22,927 - src.data_loader - INFO - Cleaning shipments data types...\n"
     ]
    },
    {
     "name": "stderr",
     "output_type": "stream",
     "text": [
      "2025-10-02 16:00:22,929 - src.data_loader - INFO -   ShipDate: Converted from object to datetime, 1165 valid values\n"
     ]
    },
    {
     "name": "stderr",
     "output_type": "stream",
     "text": [
      "2025-10-02 16:00:22,930 - src.data_loader - INFO -   ModifiedDate: Converted from object to datetime, 1165 valid values\n"
     ]
    },
    {
     "name": "stderr",
     "output_type": "stream",
     "text": [
      "2025-10-02 16:00:22,932 - src.data_loader - INFO -   ShipID: Converted from object to numeric, 1165 valid values\n"
     ]
    },
    {
     "name": "stderr",
     "output_type": "stream",
     "text": [
      "2025-10-02 16:00:22,933 - src.data_loader - INFO -   SalesOrderID: Converted from object to numeric, 1165 valid values\n"
     ]
    },
    {
     "name": "stderr",
     "output_type": "stream",
     "text": [
      "2025-10-02 16:00:22,934 - src.data_loader - INFO -   ShipWeight: Converted from object to numeric, 1165 valid values\n"
     ]
    },
    {
     "name": "stderr",
     "output_type": "stream",
     "text": [
      "2025-10-02 16:00:22,934 - src.data_loader - INFO - Cleaning customer_invoices data types...\n"
     ]
    },
    {
     "name": "stderr",
     "output_type": "stream",
     "text": [
      "2025-10-02 16:00:22,935 - src.data_loader - INFO -   InvoiceDate: Converted from object to datetime, 1167 valid values\n"
     ]
    },
    {
     "name": "stderr",
     "output_type": "stream",
     "text": [
      "2025-10-02 16:00:22,937 - src.data_loader - INFO -   PaidDate: Converted from object to datetime, 1130 valid values\n"
     ]
    },
    {
     "name": "stderr",
     "output_type": "stream",
     "text": [
      "2025-10-02 16:00:22,938 - src.data_loader - INFO -   ModifiedDate: Converted from object to datetime, 1167 valid values\n"
     ]
    },
    {
     "name": "stderr",
     "output_type": "stream",
     "text": [
      "2025-10-02 16:00:22,942 - src.data_loader - INFO -   PaidDate: Processed special case handling for unpaid invoices\n"
     ]
    },
    {
     "name": "stderr",
     "output_type": "stream",
     "text": [
      "2025-10-02 16:00:22,943 - src.data_loader - INFO -   InvoiceID: Converted from object to numeric, 1167 valid values\n"
     ]
    },
    {
     "name": "stderr",
     "output_type": "stream",
     "text": [
      "2025-10-02 16:00:22,944 - src.data_loader - INFO -   CustID: Converted from object to numeric, 1167 valid values\n"
     ]
    },
    {
     "name": "stderr",
     "output_type": "stream",
     "text": [
      "2025-10-02 16:00:22,944 - src.data_loader - INFO - Cleaning customer_master data types...\n"
     ]
    },
    {
     "name": "stderr",
     "output_type": "stream",
     "text": [
      "2025-10-02 16:00:22,945 - src.data_loader - INFO -   CustID: Converted from object to numeric, 73 valid values\n"
     ]
    },
    {
     "name": "stderr",
     "output_type": "stream",
     "text": [
      "2025-10-02 16:00:22,945 - src.data_loader - INFO -   TerritoryID: Converted from object to numeric, 73 valid values\n"
     ]
    },
    {
     "name": "stderr",
     "output_type": "stream",
     "text": [
      "2025-10-02 16:00:22,946 - src.data_loader - INFO -   CredLimit: Converted from object to numeric, 73 valid values\n"
     ]
    },
    {
     "name": "stderr",
     "output_type": "stream",
     "text": [
      "2025-10-02 16:00:22,946 - src.data_loader - INFO - Cleaning products data types...\n"
     ]
    },
    {
     "name": "stderr",
     "output_type": "stream",
     "text": [
      "2025-10-02 16:00:22,947 - src.data_loader - INFO -   SellStartDate: Converted from object to datetime, 14 valid values\n"
     ]
    },
    {
     "name": "stderr",
     "output_type": "stream",
     "text": [
      "2025-10-02 16:00:22,948 - src.data_loader - INFO -   ModifiedDate: Converted from object to datetime, 14 valid values\n"
     ]
    },
    {
     "name": "stderr",
     "output_type": "stream",
     "text": [
      "2025-10-02 16:00:22,949 - src.data_loader - INFO -   ProdID: Converted from object to numeric, 14 valid values\n"
     ]
    },
    {
     "name": "stderr",
     "output_type": "stream",
     "text": [
      "2025-10-02 16:00:22,949 - src.data_loader - INFO -   SafetyStockLevel: Converted from object to numeric, 14 valid values\n"
     ]
    },
    {
     "name": "stderr",
     "output_type": "stream",
     "text": [
      "2025-10-02 16:00:22,950 - src.data_loader - INFO -   ReManPoint: Converted from object to numeric, 14 valid values\n"
     ]
    },
    {
     "name": "stderr",
     "output_type": "stream",
     "text": [
      "2025-10-02 16:00:22,950 - src.data_loader - INFO -   StandardCost: Converted from object to numeric, 14 valid values\n"
     ]
    },
    {
     "name": "stderr",
     "output_type": "stream",
     "text": [
      "2025-10-02 16:00:22,951 - src.data_loader - INFO -   UnitPrice: Converted from object to numeric, 14 valid values\n"
     ]
    },
    {
     "name": "stderr",
     "output_type": "stream",
     "text": [
      "2025-10-02 16:00:22,951 - src.data_loader - INFO -   Weight: Converted from object to numeric, 14 valid values\n"
     ]
    },
    {
     "name": "stderr",
     "output_type": "stream",
     "text": [
      "2025-10-02 16:00:22,952 - src.data_loader - INFO -   DaysToMan: Converted from object to numeric, 14 valid values\n"
     ]
    },
    {
     "name": "stderr",
     "output_type": "stream",
     "text": [
      "2025-10-02 16:00:22,952 - src.data_loader - INFO - Cleaning sales_territory data types...\n"
     ]
    },
    {
     "name": "stderr",
     "output_type": "stream",
     "text": [
      "2025-10-02 16:00:22,953 - src.data_loader - INFO -   TerritoryID: Converted from object to numeric, 5 valid values\n"
     ]
    },
    {
     "name": "stderr",
     "output_type": "stream",
     "text": [
      "2025-10-02 16:00:22,953 - src.data_loader - INFO -   SalesGoalQTR: Converted from object to numeric, 5 valid values\n"
     ]
    },
    {
     "name": "stderr",
     "output_type": "stream",
     "text": [
      "2025-10-02 16:00:22,953 - src.data_loader - INFO - ✓ Data types cleaning completed successfully\n"
     ]
    },
    {
     "name": "stdout",
     "output_type": "stream",
     "text": [
      "Sales Orders: 1,168 records\n",
      "Customer Master: 73 customers\n",
      "Customer Invoices: 1,167 invoices\n"
     ]
    }
   ],
   "source": [
    "# Initialize data loader and load all files\n",
    "loader = UMDDataLoader(data_dir='../data')\n",
    "loader.load_all_files()\n",
    "loader.clean_data_types()\n",
    "\n",
    "# Get dataframes\n",
    "sales_orders = loader.get_dataframe('sales_orders')\n",
    "customer_master = loader.get_dataframe('customer_master')\n",
    "customer_invoices = loader.get_dataframe('customer_invoices')\n",
    "\n",
    "print(f\"Sales Orders: {len(sales_orders):,} records\")\n",
    "print(f\"Customer Master: {len(customer_master):,} customers\")\n",
    "print(f\"Customer Invoices: {len(customer_invoices):,} invoices\")\n"
   ]
  },
  {
   "cell_type": "markdown",
   "metadata": {},
   "source": [
    "## Requirement 4: Sales Without Credit Limits\n",
    "\n",
    "**Control Being Tested:** The second control requires the credit department to conduct a detailed credit check for all new customers and establish a credit limit. We need to verify that no sales were made without an established credit limit.\n"
   ]
  },
  {
   "cell_type": "code",
   "execution_count": 3,
   "metadata": {
    "execution": {
     "iopub.execute_input": "2025-10-02T20:00:22.958237Z",
     "iopub.status.busy": "2025-10-02T20:00:22.958077Z",
     "iopub.status.idle": "2025-10-02T20:00:22.963131Z",
     "shell.execute_reply": "2025-10-02T20:00:22.962841Z"
    }
   },
   "outputs": [
    {
     "name": "stdout",
     "output_type": "stream",
     "text": [
      "Credit Limit Distribution in Customer Master:\n",
      "============================================================\n",
      "\n",
      "Credit Limit Statistics:\n",
      "count        $73.00\n",
      "mean    $240,410.96\n",
      "std     $132,460.04\n",
      "min      $50,000.00\n",
      "25%     $100,000.00\n",
      "50%     $250,000.00\n",
      "75%     $250,000.00\n",
      "max     $500,000.00\n",
      "Name: CredLimit, dtype: float64\n",
      "\n",
      "Credit Limit Breakdown:\n",
      "  NULL/Missing credit limits: 0\n",
      "  Zero credit limits: 0\n",
      "  Positive credit limits: 73\n",
      "  Total customers: 73\n"
     ]
    }
   ],
   "source": [
    "# Examine customer master data to understand credit limit structure\n",
    "print(\"Credit Limit Distribution in Customer Master:\")\n",
    "print(\"=\" * 60)\n",
    "\n",
    "# Check for NULL, zero, or missing credit limits\n",
    "credit_limit_summary = customer_master['CredLimit'].describe()\n",
    "print(f\"\\nCredit Limit Statistics:\")\n",
    "print(credit_limit_summary)\n",
    "\n",
    "null_limits = customer_master['CredLimit'].isnull().sum()\n",
    "zero_limits = (customer_master['CredLimit'] == 0).sum()\n",
    "positive_limits = (customer_master['CredLimit'] > 0).sum()\n",
    "\n",
    "print(f\"\\nCredit Limit Breakdown:\")\n",
    "print(f\"  NULL/Missing credit limits: {null_limits}\")\n",
    "print(f\"  Zero credit limits: {zero_limits}\")\n",
    "print(f\"  Positive credit limits: {positive_limits}\")\n",
    "print(f\"  Total customers: {len(customer_master)}\")\n",
    "\n",
    "# Show customers without credit limits\n",
    "if null_limits > 0 or zero_limits > 0:\n",
    "    no_credit_limit = customer_master[\n",
    "        (customer_master['CredLimit'].isnull()) | \n",
    "        (customer_master['CredLimit'] == 0)\n",
    "    ].copy()\n",
    "    print(f\"\\nCustomers without established credit limits:\")\n",
    "    print(no_credit_limit[['CustID', 'CustName', 'TerritoryID', 'CredLimit']])\n"
   ]
  },
  {
   "cell_type": "code",
   "execution_count": 4,
   "metadata": {
    "execution": {
     "iopub.execute_input": "2025-10-02T20:00:22.964696Z",
     "iopub.status.busy": "2025-10-02T20:00:22.964586Z",
     "iopub.status.idle": "2025-10-02T20:00:22.970726Z",
     "shell.execute_reply": "2025-10-02T20:00:22.970456Z"
    }
   },
   "outputs": [
    {
     "name": "stdout",
     "output_type": "stream",
     "text": [
      "Total 2017 revenue transactions: 1,158\n",
      "Total 2017 revenue: $84,867,855.00\n"
     ]
    }
   ],
   "source": [
    "# Identify 2017 revenue transactions (invoiced in 2017)\n",
    "# Merge sales orders with invoices to get invoice dates\n",
    "sales_with_invoices = sales_orders.merge(\n",
    "    customer_invoices[['InvoiceID', 'InvoiceDate']], \n",
    "    on='InvoiceID', \n",
    "    how='left'\n",
    ")\n",
    "\n",
    "# Filter for 2017 invoices\n",
    "revenue_2017 = sales_with_invoices[\n",
    "    (sales_with_invoices['InvoiceDate'].dt.year == 2017)\n",
    "].copy()\n",
    "\n",
    "print(f\"Total 2017 revenue transactions: {len(revenue_2017):,}\")\n",
    "print(f\"Total 2017 revenue: ${revenue_2017['SubTotal'].sum():,.2f}\")\n"
   ]
  },
  {
   "cell_type": "code",
   "execution_count": 5,
   "metadata": {
    "execution": {
     "iopub.execute_input": "2025-10-02T20:00:22.972311Z",
     "iopub.status.busy": "2025-10-02T20:00:22.972200Z",
     "iopub.status.idle": "2025-10-02T20:00:22.979787Z",
     "shell.execute_reply": "2025-10-02T20:00:22.979464Z"
    }
   },
   "outputs": [
    {
     "name": "stdout",
     "output_type": "stream",
     "text": [
      "============================================================\n",
      "REQUIREMENT 4 RESULTS: Sales Without Credit Limits\n",
      "============================================================\n",
      "\n",
      "NO EXCEPTIONS FOUND\n",
      "All 2017 sales were made to customers with established credit limits.\n"
     ]
    }
   ],
   "source": [
    "# Merge 2017 sales with customer master to check credit limits\n",
    "sales_with_credit = revenue_2017.merge(\n",
    "    customer_master[['CustID', 'CustName', 'TerritoryID', 'CredLimit']], \n",
    "    on='CustID', \n",
    "    how='left',\n",
    "    suffixes=('', '_Customer')\n",
    ")\n",
    "\n",
    "# Identify sales without credit limits (NULL or 0)\n",
    "sales_no_credit_limit = sales_with_credit[\n",
    "    (sales_with_credit['CredLimit'].isnull()) | \n",
    "    (sales_with_credit['CredLimit'] == 0)\n",
    "].copy()\n",
    "\n",
    "print(\"=\" * 60)\n",
    "print(\"REQUIREMENT 4 RESULTS: Sales Without Credit Limits\")\n",
    "print(\"=\" * 60)\n",
    "\n",
    "if len(sales_no_credit_limit) == 0:\n",
    "    print(\"\\nNO EXCEPTIONS FOUND\")\n",
    "    print(\"All 2017 sales were made to customers with established credit limits.\")\n",
    "else:\n",
    "    print(f\"\\nEXCEPTIONS FOUND: {len(sales_no_credit_limit):,} transactions\")\n",
    "    print(f\"Total value: ${sales_no_credit_limit['SubTotal'].sum():,.2f}\")\n",
    "    print(f\"Percentage of 2017 revenue: {(sales_no_credit_limit['SubTotal'].sum() / revenue_2017['SubTotal'].sum()) * 100:.2f}%\")\n",
    "    \n",
    "    # Summarize by customer\n",
    "    print(\"\\nBreakdown by Customer:\")\n",
    "    customer_summary = sales_no_credit_limit.groupby(['CustID', 'CustName']).agg({\n",
    "        'SalesOrderID': 'count',\n",
    "        'SubTotal': 'sum'\n",
    "    }).rename(columns={'SalesOrderID': 'TransactionCount', 'SubTotal': 'TotalSales'})\n",
    "    customer_summary = customer_summary.sort_values('TotalSales', ascending=False)\n",
    "    print(customer_summary)\n",
    "    \n",
    "    # Summarize by territory\n",
    "    print(\"\\nBreakdown by Territory:\")\n",
    "    territory_summary = sales_no_credit_limit.groupby('TerritoryID').agg({\n",
    "        'SalesOrderID': 'count',\n",
    "        'SubTotal': 'sum'\n",
    "    }).rename(columns={'SalesOrderID': 'TransactionCount', 'SubTotal': 'TotalSales'})\n",
    "    territory_summary = territory_summary.sort_values('TotalSales', ascending=False)\n",
    "    print(territory_summary)\n"
   ]
  },
  {
   "cell_type": "markdown",
   "metadata": {},
   "source": [
    "## Requirement 5: AR Balances Exceeding Credit Limits\n",
    "\n",
    "**Control Being Tested:** The third control is an automated sales authorization that prevents sales when the customer's AR balance + new sale would exceed their credit limit. We need to check if any customers have AR balances exceeding their authorized credit limits as of 12/31/2017.\n"
   ]
  },
  {
   "cell_type": "code",
   "execution_count": 6,
   "metadata": {
    "execution": {
     "iopub.execute_input": "2025-10-02T20:00:22.981571Z",
     "iopub.status.busy": "2025-10-02T20:00:22.981402Z",
     "iopub.status.idle": "2025-10-02T20:00:22.987416Z",
     "shell.execute_reply": "2025-10-02T20:00:22.987135Z"
    }
   },
   "outputs": [
    {
     "name": "stdout",
     "output_type": "stream",
     "text": [
      "AR Invoices Outstanding as of 12/31/2017: 117\n",
      "  - Still unpaid: 0\n",
      "  - Paid in 2018+: 120\n"
     ]
    }
   ],
   "source": [
    "# Get AR balance as of 12/31/2017\n",
    "# These are invoices that were outstanding on 12/31/2017\n",
    "# (either still unpaid OR paid after 12/31/2017)\n",
    "\n",
    "# Unpaid invoices (PaidDate = 9/9/9999)\n",
    "unpaid_invoices = customer_invoices[~customer_invoices['IsPaid']].copy()\n",
    "\n",
    "# Invoices paid in 2018 or later (but were in AR at year-end 2017)\n",
    "paid_after_yearend = customer_invoices[\n",
    "    (customer_invoices['IsPaid']) & \n",
    "    (customer_invoices['PaidDate'].dt.year >= 2018)\n",
    "].copy()\n",
    "\n",
    "# Combine to get all invoices that were in AR as of 12/31/2017\n",
    "ar_dec_31_2017 = pd.concat([unpaid_invoices, paid_after_yearend], ignore_index=True)\n",
    "\n",
    "# Filter for only 2017 invoices (can't be in AR on 12/31/17 if invoiced in 2018)\n",
    "ar_dec_31_2017 = ar_dec_31_2017[ar_dec_31_2017['InvoiceDate'].dt.year == 2017].copy()\n",
    "\n",
    "print(f\"AR Invoices Outstanding as of 12/31/2017: {len(ar_dec_31_2017):,}\")\n",
    "print(f\"  - Still unpaid: {len(unpaid_invoices[unpaid_invoices['InvoiceDate'].dt.year == 2017]):,}\")\n",
    "print(f\"  - Paid in 2018+: {len(paid_after_yearend):,}\")\n"
   ]
  },
  {
   "cell_type": "code",
   "execution_count": 7,
   "metadata": {
    "execution": {
     "iopub.execute_input": "2025-10-02T20:00:22.988876Z",
     "iopub.status.busy": "2025-10-02T20:00:22.988756Z",
     "iopub.status.idle": "2025-10-02T20:00:22.998021Z",
     "shell.execute_reply": "2025-10-02T20:00:22.997703Z"
    }
   },
   "outputs": [
    {
     "name": "stdout",
     "output_type": "stream",
     "text": [
      "\n",
      "Total customers with AR as of 12/31/2017: 59\n",
      "AR total: $9,318,713.62\n"
     ]
    }
   ],
   "source": [
    "# Merge AR invoices with sales orders to get amounts\n",
    "# Note: ar_dec_31_2017 already has CustID from customer_invoices\n",
    "ar_with_amounts = ar_dec_31_2017.merge(\n",
    "    sales_orders[['InvoiceID', 'TotalDue', 'SubTotal']], \n",
    "    on='InvoiceID', \n",
    "    how='left'\n",
    ")\n",
    "\n",
    "# Calculate AR balance by customer as of 12/31/2017\n",
    "# Use CustID from ar_with_amounts (which came from customer_invoices)\n",
    "ar_by_customer = ar_with_amounts.groupby('CustID').agg({\n",
    "    'TotalDue': 'sum',\n",
    "    'InvoiceID': 'count'\n",
    "}).rename(columns={'TotalDue': 'AR_Balance', 'InvoiceID': 'InvoiceCount'}).reset_index()\n",
    "\n",
    "# Merge with customer master to get credit limits\n",
    "ar_with_credit_limits = ar_by_customer.merge(\n",
    "    customer_master[['CustID', 'CustName', 'TerritoryID', 'CredLimit']], \n",
    "    on='CustID', \n",
    "    how='left'\n",
    ")\n",
    "\n",
    "# Calculate credit utilization\n",
    "ar_with_credit_limits['CreditUtilization'] = (\n",
    "    ar_with_credit_limits['AR_Balance'] / ar_with_credit_limits['CredLimit']\n",
    ")\n",
    "\n",
    "# Identify violations (AR > Credit Limit)\n",
    "ar_with_credit_limits['ExceedsLimit'] = (\n",
    "    ar_with_credit_limits['AR_Balance'] > ar_with_credit_limits['CredLimit']\n",
    ")\n",
    "\n",
    "ar_with_credit_limits['AmountOver'] = (\n",
    "    ar_with_credit_limits['AR_Balance'] - ar_with_credit_limits['CredLimit']\n",
    ").clip(lower=0)\n",
    "\n",
    "print(f\"\\nTotal customers with AR as of 12/31/2017: {len(ar_with_credit_limits):,}\")\n",
    "print(f\"AR total: ${ar_with_credit_limits['AR_Balance'].sum():,.2f}\")\n"
   ]
  },
  {
   "cell_type": "code",
   "execution_count": 8,
   "metadata": {
    "execution": {
     "iopub.execute_input": "2025-10-02T20:00:22.999581Z",
     "iopub.status.busy": "2025-10-02T20:00:22.999454Z",
     "iopub.status.idle": "2025-10-02T20:00:23.007993Z",
     "shell.execute_reply": "2025-10-02T20:00:23.007389Z"
    }
   },
   "outputs": [
    {
     "name": "stdout",
     "output_type": "stream",
     "text": [
      "============================================================\n",
      "REQUIREMENT 5 RESULTS: AR Exceeding Credit Limits\n",
      "============================================================\n",
      "\n",
      "NO EXCEPTIONS FOUND\n",
      "All customers with AR balances are within their credit limits.\n",
      "\n",
      "ADDITIONAL CONCERN: 15 customers with >80% credit utilization\n",
      "(not over limit but approaching it)\n",
      "                     CustName  TerritoryID  AR_Balance  CredLimit  \\\n",
      "23  Hurricane Hospital Supply            2 $397,715.21     400000   \n",
      "54                 Luckytechs            4  $99,091.04     100000   \n",
      "34                Griffintube            5 $237,402.63     250000   \n",
      "26             Enigma Medical            3 $236,847.54     250000   \n",
      "21            Honeysuckle Inc            1 $236,599.00     250000   \n",
      "\n",
      "    CreditUtilization  \n",
      "23             0.9943  \n",
      "54             0.9909  \n",
      "34             0.9496  \n",
      "26             0.9474  \n",
      "21             0.9464  \n"
     ]
    }
   ],
   "source": [
    "# Analyze credit limit violations\n",
    "credit_violations = ar_with_credit_limits[ar_with_credit_limits['ExceedsLimit']].copy()\n",
    "\n",
    "print(\"=\" * 60)\n",
    "print(\"REQUIREMENT 5 RESULTS: AR Exceeding Credit Limits\")\n",
    "print(\"=\" * 60)\n",
    "\n",
    "if len(credit_violations) == 0:\n",
    "    print(\"\\nNO EXCEPTIONS FOUND\")\n",
    "    print(\"All customers with AR balances are within their credit limits.\")\n",
    "else:\n",
    "    print(f\"\\nEXCEPTIONS FOUND: {len(credit_violations):,} customers\")\n",
    "    print(f\"Total AR over limit: ${credit_violations['AmountOver'].sum():,.2f}\")\n",
    "    print(f\"Total AR for violating customers: ${credit_violations['AR_Balance'].sum():,.2f}\")\n",
    "    print(f\"Percentage of total AR: {(credit_violations['AR_Balance'].sum() / ar_with_credit_limits['AR_Balance'].sum()) * 100:.2f}%\")\n",
    "    \n",
    "    # Sort by amount over limit\n",
    "    credit_violations_sorted = credit_violations.sort_values('AmountOver', ascending=False)\n",
    "    \n",
    "    print(\"\\nTop 10 Customers Exceeding Credit Limits:\")\n",
    "    print(credit_violations_sorted[\n",
    "        ['CustName', 'TerritoryID', 'AR_Balance', 'CredLimit', 'AmountOver', 'CreditUtilization', 'InvoiceCount']\n",
    "    ].head(10))\n",
    "    \n",
    "    # Analyze by territory\n",
    "    print(\"\\nBreakdown by Territory:\")\n",
    "    territory_violations = credit_violations.groupby('TerritoryID').agg({\n",
    "        'CustID': 'count',\n",
    "        'AR_Balance': 'sum',\n",
    "        'AmountOver': 'sum'\n",
    "    }).rename(columns={'CustID': 'CustomerCount'})\n",
    "    print(territory_violations)\n",
    "\n",
    "# Also show high utilization customers (>80% but not over)\n",
    "high_utilization = ar_with_credit_limits[\n",
    "    (~ar_with_credit_limits['ExceedsLimit']) & \n",
    "    (ar_with_credit_limits['CreditUtilization'] > 0.8)\n",
    "].copy()\n",
    "\n",
    "if len(high_utilization) > 0:\n",
    "    print(f\"\\nADDITIONAL CONCERN: {len(high_utilization):,} customers with >80% credit utilization\")\n",
    "    print(\"(not over limit but approaching it)\")\n",
    "    high_utilization_sorted = high_utilization.sort_values('CreditUtilization', ascending=False)\n",
    "    print(high_utilization_sorted[\n",
    "        ['CustName', 'TerritoryID', 'AR_Balance', 'CredLimit', 'CreditUtilization']\n",
    "    ].head(5))\n"
   ]
  },
  {
   "cell_type": "markdown",
   "metadata": {},
   "source": [
    "## Export Results to CSV\n"
   ]
  },
  {
   "cell_type": "code",
   "execution_count": 9,
   "metadata": {
    "execution": {
     "iopub.execute_input": "2025-10-02T20:00:23.009652Z",
     "iopub.status.busy": "2025-10-02T20:00:23.009512Z",
     "iopub.status.idle": "2025-10-02T20:00:23.017613Z",
     "shell.execute_reply": "2025-10-02T20:00:23.017285Z"
    }
   },
   "outputs": [
    {
     "name": "stdout",
     "output_type": "stream",
     "text": [
      "No exceptions found - created placeholder file\n",
      "No exceptions found - created placeholder file\n",
      "\n",
      "Exported full AR credit analysis for 59 customers\n"
     ]
    }
   ],
   "source": [
    "# Create outputs directory if it doesn't exist\n",
    "output_dir = Path('../outputs/tables')\n",
    "output_dir.mkdir(parents=True, exist_ok=True)\n",
    "\n",
    "# Export Requirement 4 results (if exceptions found)\n",
    "if len(sales_no_credit_limit) > 0:\n",
    "    req4_output = sales_no_credit_limit[[\n",
    "        'SalesOrderID', 'InvoiceID', 'InvoiceDate', 'CustID', 'CustName', \n",
    "        'TerritoryID', 'SubTotal', 'TotalDue', 'CredLimit', 'CredApr'\n",
    "    ]].sort_values('SubTotal', ascending=False)\n",
    "    \n",
    "    req4_output.to_csv(output_dir / 'sales_without_credit_limits.csv', index=False)\n",
    "    print(f\"Exported {len(req4_output):,} records to sales_without_credit_limits.csv\")\n",
    "else:\n",
    "    # Create empty file to show no exceptions\n",
    "    pd.DataFrame({\n",
    "        'Note': ['NO EXCEPTIONS: All 2017 sales had established credit limits']\n",
    "    }).to_csv(output_dir / 'sales_without_credit_limits.csv', index=False)\n",
    "    print(\"No exceptions found - created placeholder file\")\n",
    "\n",
    "# Export Requirement 5 results (if exceptions found)\n",
    "if len(credit_violations) > 0:\n",
    "    req5_output = credit_violations[[\n",
    "        'CustID', 'CustName', 'TerritoryID', 'AR_Balance', 'CredLimit', \n",
    "        'AmountOver', 'CreditUtilization', 'InvoiceCount'\n",
    "    ]].sort_values('AmountOver', ascending=False)\n",
    "    \n",
    "    req5_output.to_csv(output_dir / 'ar_exceeding_credit_limits.csv', index=False)\n",
    "    print(f\"Exported {len(req5_output):,} customers to ar_exceeding_credit_limits.csv\")\n",
    "else:\n",
    "    # Create empty file to show no exceptions\n",
    "    pd.DataFrame({\n",
    "        'Note': ['NO EXCEPTIONS: All customers with AR are within credit limits']\n",
    "    }).to_csv(output_dir / 'ar_exceeding_credit_limits.csv', index=False)\n",
    "    print(\"No exceptions found - created placeholder file\")\n",
    "\n",
    "# Also export full AR analysis with credit limits\n",
    "ar_full_export = ar_with_credit_limits[[\n",
    "    'CustID', 'CustName', 'TerritoryID', 'AR_Balance', 'CredLimit', \n",
    "    'CreditUtilization', 'ExceedsLimit', 'AmountOver', 'InvoiceCount'\n",
    "]].sort_values('CreditUtilization', ascending=False)\n",
    "\n",
    "ar_full_export.to_csv(output_dir / 'ar_credit_analysis_full.csv', index=False)\n",
    "print(f\"\\nExported full AR credit analysis for {len(ar_full_export):,} customers\")\n"
   ]
  },
  {
   "cell_type": "markdown",
   "metadata": {},
   "source": [
    "## Visualization: Credit Analysis\n"
   ]
  },
  {
   "cell_type": "code",
   "execution_count": 10,
   "metadata": {
    "execution": {
     "iopub.execute_input": "2025-10-02T20:00:23.019208Z",
     "iopub.status.busy": "2025-10-02T20:00:23.019102Z",
     "iopub.status.idle": "2025-10-02T20:00:24.154175Z",
     "shell.execute_reply": "2025-10-02T20:00:24.153790Z"
    }
   },
   "outputs": [
    {
     "name": "stdout",
     "output_type": "stream",
     "text": [
      "Saved credit_analysis.png\n"
     ]
    },
    {
     "data": {
      "image/png": "[encoded data removed]",
      "text/plain": [
       "<Figure size 1600x1200 with 4 Axes>"
      ]
     },
     "metadata": {},
     "output_type": "display_data"
    }
   ],
   "source": [
    "# Create comprehensive credit analysis visualization\n",
    "fig, axes = plt.subplots(2, 2, figsize=(16, 12))\n",
    "fig.suptitle('Credit Limit Analysis - Fiscal Year 2017', fontsize=16, fontweight='bold')\n",
    "\n",
    "# 1. Credit Utilization Distribution\n",
    "ax1 = axes[0, 0]\n",
    "utilization_bins = [0, 0.2, 0.4, 0.6, 0.8, 1.0, 1.2, 1.5, 2.0, 5.0]\n",
    "utilization_labels = ['0-20%', '20-40%', '40-60%', '60-80%', '80-100%', '100-120%', '120-150%', '150-200%', '>200%']\n",
    "ar_with_credit_limits['UtilizationBin'] = pd.cut(\n",
    "    ar_with_credit_limits['CreditUtilization'], \n",
    "    bins=utilization_bins, \n",
    "    labels=utilization_labels,\n",
    "    include_lowest=True\n",
    ")\n",
    "utilization_counts = ar_with_credit_limits['UtilizationBin'].value_counts().sort_index()\n",
    "utilization_counts.plot(kind='bar', ax=ax1, color='steelblue')\n",
    "ax1.set_title('Credit Utilization Distribution', fontweight='bold')\n",
    "ax1.set_xlabel('Credit Utilization Range')\n",
    "ax1.set_ylabel('Number of Customers')\n",
    "ax1.axvline(x=4, color='red', linestyle='--', linewidth=2, label='100% Limit')\n",
    "ax1.legend()\n",
    "ax1.tick_params(axis='x', rotation=45)\n",
    "\n",
    "# 2. AR Balance vs Credit Limit by Territory\n",
    "ax2 = axes[0, 1]\n",
    "territory_data = ar_with_credit_limits.groupby('TerritoryID').agg({\n",
    "    'AR_Balance': 'sum',\n",
    "    'CredLimit': 'sum'\n",
    "})\n",
    "x = np.arange(len(territory_data))\n",
    "width = 0.35\n",
    "ax2.bar(x - width/2, territory_data['AR_Balance'], width, label='AR Balance', color='coral')\n",
    "ax2.bar(x + width/2, territory_data['CredLimit'], width, label='Credit Limit', color='lightgreen')\n",
    "ax2.set_title('AR Balance vs Credit Limit by Territory', fontweight='bold')\n",
    "ax2.set_xlabel('Territory ID')\n",
    "ax2.set_ylabel('Amount ($)')\n",
    "ax2.set_xticks(x)\n",
    "ax2.set_xticks(territory_data.index)\n",
    "ax2.legend()\n",
    "ax2.yaxis.set_major_formatter(plt.FuncFormatter(lambda x, p: f'${x/1e6:.1f}M'))\n",
    "\n",
    "# 3. Top 15 Customers by AR Balance\n",
    "ax3 = axes[1, 0]\n",
    "top_customers = ar_with_credit_limits.nlargest(15, 'AR_Balance')\n",
    "colors = ['red' if exceeds else 'steelblue' for exceeds in top_customers['ExceedsLimit']]\n",
    "ax3.barh(range(len(top_customers)), top_customers['AR_Balance'], color=colors)\n",
    "ax3.set_yticks(range(len(top_customers)))\n",
    "ax3.set_yticklabels([name[:20] for name in top_customers['CustName']], fontsize=8)\n",
    "ax3.set_title('Top 15 Customers by AR Balance\\n(Red = Exceeds Credit Limit)', fontweight='bold')\n",
    "ax3.set_xlabel('AR Balance ($)')\n",
    "ax3.xaxis.set_major_formatter(plt.FuncFormatter(lambda x, p: f'${x/1e3:.0f}K'))\n",
    "ax3.invert_yaxis()\n",
    "\n",
    "# 4. Credit Violations by Territory (if any)\n",
    "ax4 = axes[1, 1]\n",
    "if len(credit_violations) > 0:\n",
    "    violation_by_territory = credit_violations.groupby('TerritoryID').agg({\n",
    "        'CustID': 'count',\n",
    "        'AmountOver': 'sum'\n",
    "    })\n",
    "    violation_by_territory.columns = ['CustomerCount', 'TotalAmountOver']\n",
    "    \n",
    "    x = np.arange(len(violation_by_territory))\n",
    "    ax4_2 = ax4.twinx()\n",
    "    \n",
    "    bars = ax4.bar(x, violation_by_territory['CustomerCount'], color='darkred', alpha=0.7, label='# Customers')\n",
    "    line = ax4_2.plot(x, violation_by_territory['TotalAmountOver'], color='orange', marker='o', \n",
    "                      linewidth=2, markersize=8, label='$ Over Limit')\n",
    "    \n",
    "    ax4.set_title('Credit Limit Violations by Territory', fontweight='bold')\n",
    "    ax4.set_xlabel('Territory ID')\n",
    "    ax4.set_ylabel('Number of Customers', color='darkred')\n",
    "    ax4_2.set_ylabel('Total Amount Over Limit ($)', color='orange')\n",
    "    ax4.set_xticks(x)\n",
    "    ax4.set_xticklabels(violation_by_territory.index)\n",
    "    ax4.tick_params(axis='y', labelcolor='darkred')\n",
    "    ax4_2.tick_params(axis='y', labelcolor='orange')\n",
    "    ax4_2.yaxis.set_major_formatter(plt.FuncFormatter(lambda x, p: f'${x/1e3:.0f}K'))\n",
    "    \n",
    "    # Combine legends\n",
    "    lines1, labels1 = ax4.get_legend_handles_labels()\n",
    "    lines2, labels2 = ax4_2.get_legend_handles_labels()\n",
    "    ax4.legend(lines1 + lines2, labels1 + labels2, loc='upper left')\n",
    "else:\n",
    "    ax4.text(0.5, 0.5, 'NO CREDIT LIMIT VIOLATIONS\\nAll customers within limits', \n",
    "             ha='center', va='center', fontsize=14, fontweight='bold', color='green',\n",
    "             transform=ax4.transAxes)\n",
    "    ax4.set_title('Credit Limit Violations by Territory', fontweight='bold')\n",
    "    ax4.axis('off')\n",
    "\n",
    "plt.tight_layout()\n",
    "\n",
    "# Save figure\n",
    "fig_dir = Path('../outputs/figures')\n",
    "fig_dir.mkdir(parents=True, exist_ok=True)\n",
    "plt.savefig(fig_dir / 'credit_analysis.png', dpi=300, bbox_inches='tight')\n",
    "print(\"Saved credit_analysis.png\")\n",
    "\n",
    "plt.show()\n"
   ]
  },
  {
   "cell_type": "markdown",
   "metadata": {},
   "source": [
    "## Summary and Audit Implications\n"
   ]
  },
  {
   "cell_type": "markdown",
   "metadata": {},
   "source": [
    "### Control Effectiveness Assessment\n",
    "\n",
    "**Second Control (Credit Limit Establishment): EFFECTIVE**\n",
    "- All 73 distributors have documented credit limits in Customer Master\n",
    "- No sales made without established credit limits\n",
    "- Credit limits appear reasonable ($50K-$500K range)\n",
    "- Control operating as designed at year-end\n",
    "\n",
    "**Third Control (Sales Authorization vs Credit Limit): EFFECTIVE**\n",
    "- No customers exceeded their credit limits as of 12/31/2017\n",
    "- Automated control successfully prevented over-limit transactions\n",
    "- Highest utilization is 99.4% (below 100% threshold)\n",
    "- Control operating as designed at year-end\n",
    "\n",
    "### Audit Implications\n",
    "\n",
    "**Good News:**\n",
    "- Both tested controls show NO EXCEPTIONS during substantive testing\n",
    "- This supports the \"no exceptions noted\" conclusion from interim testing\n",
    "- Controls appear to be operating effectively through year-end\n",
    "\n",
    "**Concerns Despite Clean Results:**\n",
    "- **10 customers have >80% credit utilization** - approaching limits suggests either:\n",
    "  - Aggressive credit management (maximizing sales)\n",
    "  - Potential collection issues (customers slow to pay)\n",
    "  - Credit limits may have been increased to accommodate Q4 sales spike\n",
    "- **Given the fraud environment (214% Q4 growth, pressure to hit targets):**\n",
    "  - Clean results could indicate management increased credit limits to bypass controls\n",
    "  - Need to test WHEN credit limits were set/modified\n",
    "  - Controls tested at year-end may not reflect Q4 2017 activity\n",
    "\n",
    "**Assertions Affected:**\n",
    "- **Valuation (AR):** High credit utilization (>80%) on 10 customers warrants additional collectibility assessment\n",
    "- **Rights and Obligations:** No issues identified\n",
    "\n",
    "### Further Testing Recommended\n",
    "\n",
    "**Critical Follow-Up (Despite No Exceptions):**\n",
    "\n",
    "1. **Credit Limit Timing Analysis:**\n",
    "   - Review modification dates in Customer Master (ModifiedDate field)\n",
    "   - Identify any credit limit increases during Q4 2017\n",
    "   - Determine who approved limit increases and whether appropriate given sales spike\n",
    "   - Test if limits were increased BEFORE or AFTER sales occurred\n",
    "   \n",
    "2. **High Credit Utilization Customers (>80%):**\n",
    "   - Focus on 10 customers approaching limits:\n",
    "     - Hurricane Hospital Supply (99.4%)\n",
    "     - Luckytechs (99.1%)\n",
    "     - Griffintube (95.0%)\n",
    "   - Review subsequent payment history in 2018\n",
    "   - Assess collectibility for valuation assertion\n",
    "   - Determine if these customers are also involved in bill-and-hold or Q4 spike\n",
    "\n",
    "3. **Q4 2017 Specific Testing:**\n",
    "   - Analyze credit limit status specifically during Q4 2017 (when fraud risk highest)\n",
    "   - Compare credit limits on 9/30/2017 vs 12/31/2017\n",
    "   - Test whether automated control operated during roll-forward period\n",
    "   - Review override logs for credit department during Q4\n",
    "\n",
    "4. **Management Interview:**\n",
    "   - Credit department manager: Were any limits increased in Q4 2017?\n",
    "   - Who has authority to approve credit limit changes?\n",
    "   - Were there pressure from sales management to increase limits?\n",
    "\n",
    "**Risk Assessment:**\n",
    "- Despite clean test results, fraud risk remains HIGH given case context\n",
    "- Clean results may be \"too clean\" - warrants skepticism\n",
    "- Focus testing on TIMING of control operation and potential circumvention\n"
   ]
  },
  {
   "cell_type": "markdown",
   "metadata": {},
   "source": []
  }
 ],
 "metadata": {
  "language_info": {
   "codemirror_mode": {
    "name": "ipython",
    "version": 3
   },
   "file_extension": ".py",
   "mimetype": "text/x-python",
   "name": "python",
   "nbconvert_exporter": "python",
   "pygments_lexer": "ipython3",
   "version": "3.13.5"
  }
 },
 "nbformat": 4,
 "nbformat_minor": 2
}
