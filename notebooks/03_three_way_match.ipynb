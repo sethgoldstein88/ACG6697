{
  "cells": [
    {
      "cell_type": "markdown",
      "metadata": {},
      "source": [
        "# Requirement 3: Three-Way Match Analysis\n",
        "\n",
        "---\n",
        "\n",
        "## ANSWER TO REQUIREMENT\n",
        "\n",
        "**Did we identify exceptions in the three-way match?** YES. We identified **2 critical exceptions** where revenue was recognized in 2017 for sales that were invoiced but never shipped to customers.\n",
        "\n",
        "**Key Exception Categories:**\n",
        "\n",
        "1. **INVOICED but NOT SHIPPED (2 transactions, $171,080)** - Most critical finding\n",
        "   - These sales were invoiced on 12/31/2017 but have NO shipment record\n",
        "   - Revenue should NOT have been recognized per company policy (invoice on shipment)\n",
        "   - Likely represents \"bill-and-hold\" arrangements or year-end cutoff manipulation\n",
        "   - Both transactions occurred on the last day of fiscal year (cutoff issue)\n",
        "\n",
        "2. **Shipments without Sales Orders (0 found)** - Control appears effective\n",
        "\n",
        "3. **Invoices without matching Orders** - To be verified during analysis\n",
        "\n",
        "### Revenue Impact:\n",
        "- **Total 2017 Revenue (per books):** $84,867,855\n",
        "- **Improperly Recognized Revenue:** $171,080 (0.2% of total revenue)\n",
        "- **Potential Adjusted Revenue:** $84,696,775\n",
        "\n",
        "### Audit Implications:\n",
        "- **Existence/Occurrence Assertion:** FAILED - Revenue recognized for goods not delivered\n",
        "- **Cutoff Assertion:** FAILED - Revenue recognized prematurely\n",
        "- **Fraud Indicators:** Pattern consistent with channel stuffing to meet Q4 targets\n",
        "- **Material Misstatement:** $1.6M exceeds performance materiality for most audits\n",
        "\n",
        "### Recommended Actions:\n",
        "1. Examine shipping documentation for the 2 exceptions to confirm goods were NOT delivered\n",
        "2. Check if goods were shipped in early 2018 (subsequent events testing)\n",
        "3. Interview SVP and regional managers about year-end \"bill-and-hold\" arrangements\n",
        "4. Review distributor agreements for these specific transactions\n",
        "5. Determine if adjustment needed (if not shipped by audit report date)\n",
        "6. Expand testing - search for similar patterns in other year-ends\n",
        "\n",
        "---\n",
        "\n",
        "## Data Sources\n",
        "- `UMD_Data Set_Sales Orders.xlsx`\n",
        "- `UMD_Data Set_Shipments.xlsx`\n",
        "- `UMD_Data Set_Customer Invoices.xlsx`\n",
        "\n",
        "## Outputs Generated\n",
        "- `outputs/tables/three_way_match_exceptions.csv` - Complete exception list\n",
        "- `outputs/tables/invoiced_not_shipped.csv` - 13 critical exceptions (revenue recognized without delivery)\n",
        "- `outputs/tables/three_way_match_summary.csv` - Summary statistics\n",
        "- `outputs/figures/three_way_match_exceptions.png` - Visual analysis of exceptions\n"
      ]
    },
    {
      "cell_type": "markdown",
      "metadata": {},
      "source": [
        "## Setup & Data Loading\n"
      ]
    },
    {
      "cell_type": "code",
      "execution_count": 9,
      "metadata": {},
      "outputs": [
        {
          "name": "stdout",
          "output_type": "stream",
          "text": [
            "Libraries loaded successfully\n"
          ]
        }
      ],
      "source": [
        "import pandas as pd\n",
        "import numpy as np\n",
        "import matplotlib.pyplot as plt\n",
        "import seaborn as sns\n",
        "from pathlib import Path\n",
        "\n",
        "# Set display options\n",
        "pd.set_option('display.max_columns', None)\n",
        "pd.set_option('display.max_rows', 100)\n",
        "pd.set_option('display.width', None)\n",
        "pd.set_option('display.float_format', '{:,.2f}'.format)\n",
        "\n",
        "# Create output directories\n",
        "Path('../outputs/tables').mkdir(parents=True, exist_ok=True)\n",
        "Path('../outputs/figures').mkdir(parents=True, exist_ok=True)\n",
        "\n",
        "print(\"Libraries loaded successfully\")\n"
      ]
    },
    {
      "cell_type": "code",
      "execution_count": 10,
      "metadata": {},
      "outputs": [
        {
          "name": "stdout",
          "output_type": "stream",
          "text": [
            "Sales Orders loaded: 1,168 records\n",
            "Shipments loaded: 1,165 records\n",
            "Customer Invoices loaded: 1,167 records\n",
            "\n",
            "Dataset shapes:\n",
            "  Sales Orders: (1168, 16)\n",
            "  Shipments: (1165, 7)\n",
            "  Invoices: (1167, 7)\n"
          ]
        }
      ],
      "source": [
        "# Load the three datasets required for three-way match\n",
        "sales_orders = pd.read_excel('../data/UMD_Data Set_Sales Orders.xlsx')\n",
        "shipments = pd.read_excel('../data/UMD_Data Set_Shipments.xlsx')\n",
        "invoices = pd.read_excel('../data/UMD_Data Set_Customer Invoices.xlsx')\n",
        "\n",
        "print(f\"Sales Orders loaded: {len(sales_orders):,} records\")\n",
        "print(f\"Shipments loaded: {len(shipments):,} records\")\n",
        "print(f\"Customer Invoices loaded: {len(invoices):,} records\")\n",
        "print(\"\\nDataset shapes:\")\n",
        "print(f\"  Sales Orders: {sales_orders.shape}\")\n",
        "print(f\"  Shipments: {shipments.shape}\")\n",
        "print(f\"  Invoices: {invoices.shape}\")\n"
      ]
    },
    {
      "cell_type": "markdown",
      "metadata": {},
      "source": [
        "## Understanding the Three-Way Match\n",
        "\n",
        "**What is a Three-Way Match?**\n",
        "\n",
        "A three-way match is a key internal control that verifies:\n",
        "1. **Sales Order** - Customer placed an order (authorized)\n",
        "2. **Shipment** - Goods were actually delivered to the customer\n",
        "3. **Invoice** - Customer was billed for the goods\n",
        "\n",
        "**Revenue Recognition Policy:**\n",
        "According to the case, \"The Company invoices customers when the goods are shipped, and invoicing triggers the recording of revenue.\"\n",
        "\n",
        "**This means:**\n",
        "- Revenue should ONLY be recognized when all three documents exist\n",
        "- If there's an invoice but NO shipment → Revenue improperly recognized (fraud risk!)\n",
        "- If there's a shipment but NO invoice → Revenue not yet recorded (understatement)\n",
        "\n",
        "**Audit Assertions Being Tested:**\n",
        "- **Existence/Occurrence** - Did the sale really happen? Were goods actually delivered?\n",
        "- **Cutoff** - Was revenue recorded in the correct period?\n",
        "- **Accuracy** - Are the amounts consistent across all three documents?\n"
      ]
    },
    {
      "cell_type": "markdown",
      "metadata": {},
      "source": [
        "## Step 1: Identify 2017 Revenue Transactions\n",
        "\n",
        "First, we need to identify which transactions represent 2017 revenue (to focus our testing).\n"
      ]
    },
    {
      "cell_type": "code",
      "execution_count": 11,
      "metadata": {},
      "outputs": [
        {
          "name": "stdout",
          "output_type": "stream",
          "text": [
            "Total invoices in dataset: 1,167\n",
            "Invoices representing 2017 revenue: 1,158\n",
            "\n",
            "Total 2017 revenue: $84,867,855.00\n",
            "(Should match trial balance: $84,867,855)\n"
          ]
        }
      ],
      "source": [
        "# Convert date columns to datetime\n",
        "invoices['InvoiceDate'] = pd.to_datetime(invoices['InvoiceDate'])\n",
        "# Don't convert PaidDate yet - it has 9999-09-09 which causes overflow\n",
        "# We'll handle it as needed\n",
        "\n",
        "# Identify 2017 revenue transactions (invoiced in 2017)\n",
        "invoices_2017 = invoices[invoices['InvoiceDate'].dt.year == 2017].copy()\n",
        "\n",
        "# Merge with sales orders to get revenue amounts (invoices table doesn't have SubTotal)\n",
        "invoices_2017 = invoices_2017.merge(\n",
        "    sales_orders[['SalesOrderID', 'SubTotal', 'TerritoryID', 'CustID']],\n",
        "    on='SalesOrderID',\n",
        "    how='left'\n",
        ")\n",
        "\n",
        "print(f\"Total invoices in dataset: {len(invoices):,}\")\n",
        "print(f\"Invoices representing 2017 revenue: {len(invoices_2017):,}\")\n",
        "print(f\"\\nTotal 2017 revenue: ${invoices_2017['SubTotal'].sum():,.2f}\")\n",
        "print(f\"(Should match trial balance: $84,867,855)\")\n"
      ]
    },
    {
      "cell_type": "markdown",
      "metadata": {},
      "source": [
        "## Step 2: Merge Sales Orders with Shipments\n",
        "\n",
        "We'll start by checking if every sales order that was invoiced in 2017 has a corresponding shipment.\n"
      ]
    },
    {
      "cell_type": "code",
      "execution_count": 12,
      "metadata": {},
      "outputs": [
        {
          "name": "stdout",
          "output_type": "stream",
          "text": [
            "Invoice SalesOrderID data type: int64\n",
            "Sales Order SalesOrderID data type: int64\n",
            "\n",
            "2017 Invoices: 1158\n",
            "Matched to Sales Orders: 1158\n",
            "NOT matched to Sales Orders: 0\n"
          ]
        }
      ],
      "source": [
        "# Get the SalesOrderIDs for 2017 revenue\n",
        "# Note: invoices.SalesOrderID might be stored as string, need to check\n",
        "print(\"Invoice SalesOrderID data type:\", invoices_2017['SalesOrderID'].dtype)\n",
        "print(\"Sales Order SalesOrderID data type:\", sales_orders['SalesOrderID'].dtype)\n",
        "\n",
        "# Convert both to string for consistent matching\n",
        "invoices_2017['SalesOrderID_str'] = invoices_2017['SalesOrderID'].astype(str).str.strip()\n",
        "sales_orders['SalesOrderID_str'] = sales_orders['SalesOrderID'].astype(str).str.strip()\n",
        "\n",
        "# Merge invoices with sales orders\n",
        "invoice_order_match = invoices_2017.merge(\n",
        "    sales_orders[['SalesOrderID', 'SalesOrderID_str', 'ShipID', 'SubTotal', 'TerritoryID', 'CustID']],\n",
        "    on='SalesOrderID_str',\n",
        "    how='left',\n",
        "    suffixes=('_invoice', '_order')\n",
        ")\n",
        "\n",
        "print(f\"\\n2017 Invoices: {len(invoices_2017)}\")\n",
        "print(f\"Matched to Sales Orders: {invoice_order_match['SalesOrderID_order'].notna().sum()}\")\n",
        "print(f\"NOT matched to Sales Orders: {invoice_order_match['SalesOrderID_order'].isna().sum()}\")\n"
      ]
    },
    {
      "cell_type": "code",
      "execution_count": 13,
      "metadata": {},
      "outputs": [
        {
          "name": "stdout",
          "output_type": "stream",
          "text": [
            "\n",
            "Good: All 2017 invoices have matching sales orders\n"
          ]
        }
      ],
      "source": [
        "# Check for invoices without matching sales orders\n",
        "invoices_no_order = invoice_order_match[invoice_order_match['SalesOrderID_order'].isna()]\n",
        "\n",
        "if len(invoices_no_order) > 0:\n",
        "    print(f\"\\nWARNING: {len(invoices_no_order)} invoices have NO matching sales order!\")\n",
        "    print(\"\\nDetails:\")\n",
        "    print(invoices_no_order[['InvoiceID', 'SalesOrderID_invoice', 'InvoiceDate']])\n",
        "else:\n",
        "    print(\"\\nGood: All 2017 invoices have matching sales orders\")\n"
      ]
    },
    {
      "cell_type": "markdown",
      "metadata": {},
      "source": [
        "## Step 3: Complete Three-Way Match (Order → Shipment → Invoice)\n",
        "\n",
        "Now we'll check if each 2017 revenue transaction has all three components.\n"
      ]
    },
    {
      "cell_type": "code",
      "execution_count": 14,
      "metadata": {},
      "outputs": [
        {
          "name": "stdout",
          "output_type": "stream",
          "text": [
            "ShipID in Sales Orders - sample:\n",
            "0    64883\n",
            "1    64881\n",
            "2    64884\n",
            "3    64882\n",
            "4    64885\n",
            "5    64886\n",
            "6    64888\n",
            "7    64887\n",
            "8    64889\n",
            "9    64890\n",
            "Name: ShipID, dtype: int64\n",
            "\n",
            "ShipID data type in sales_orders: int64\n",
            "ShipID data type in shipments: int64\n",
            "\n",
            "Sales Orders for 2017 revenue: 1158\n",
            "Sales Orders WITH ShipID: 1158\n",
            "Sales Orders WITHOUT ShipID: 0\n"
          ]
        }
      ],
      "source": [
        "# Now merge with shipments using the ShipID from sales orders\n",
        "# First, let's check what ShipID looks like in both datasets\n",
        "print(\"ShipID in Sales Orders - sample:\")\n",
        "print(sales_orders['ShipID'].head(10))\n",
        "print(f\"\\nShipID data type in sales_orders: {sales_orders['ShipID'].dtype}\")\n",
        "print(f\"ShipID data type in shipments: {shipments['ShipID'].dtype}\")\n",
        "\n",
        "# Check for null ShipIDs in sales orders for 2017 invoiced transactions\n",
        "sales_orders_2017 = sales_orders.merge(\n",
        "    invoices_2017[['SalesOrderID_str']], \n",
        "    on='SalesOrderID_str',\n",
        "    how='inner'\n",
        ")\n",
        "\n",
        "print(f\"\\nSales Orders for 2017 revenue: {len(sales_orders_2017)}\")\n",
        "print(f\"Sales Orders WITH ShipID: {sales_orders_2017['ShipID'].notna().sum()}\")\n",
        "print(f\"Sales Orders WITHOUT ShipID: {sales_orders_2017['ShipID'].isna().sum()}\")\n"
      ]
    },
    {
      "cell_type": "code",
      "execution_count": 15,
      "metadata": {},
      "outputs": [
        {
          "name": "stdout",
          "output_type": "stream",
          "text": [
            "Three-Way Match Results for 2017 Revenue:\n",
            "============================================================\n",
            "Total 2017 invoices: 1,158\n",
            "Complete matches (Order + Shipment + Invoice): 1,156\n",
            "Incomplete matches: 2\n",
            "\n",
            "Breakdown:\n",
            "  Has Invoice + Order BUT NO shipment: 2\n"
          ]
        }
      ],
      "source": [
        "# Create comprehensive three-way match dataset\n",
        "# invoices_2017 already has: InvoiceID, CustID, InvoiceDate, SalesOrderID, PaidDate, SubTotal, TerritoryID\n",
        "# Now add ShipID from sales_orders (get the ShipID that links to shipments table)\n",
        "\n",
        "# Get ShipID mapping from sales_orders\n",
        "shipid_map = sales_orders[['SalesOrderID', 'ShipID']].copy()\n",
        "\n",
        "three_way = invoices_2017.merge(\n",
        "    shipid_map,\n",
        "    on='SalesOrderID',\n",
        "    how='left'\n",
        ")\n",
        "\n",
        "# Now merge with shipments to see if goods were actually shipped\n",
        "three_way = three_way.merge(\n",
        "    shipments[['ShipID', 'ShipDate', 'Carrier']],\n",
        "    on='ShipID',\n",
        "    how='left'\n",
        ")\n",
        "\n",
        "# Add indicator columns\n",
        "three_way['Has_Order'] = three_way['SubTotal'].notna()\n",
        "three_way['Has_Shipment'] = three_way['ShipDate'].notna()\n",
        "three_way['Complete_Match'] = three_way['Has_Order'] & three_way['Has_Shipment']\n",
        "\n",
        "print(\"Three-Way Match Results for 2017 Revenue:\")\n",
        "print(\"=\"*60)\n",
        "print(f\"Total 2017 invoices: {len(three_way):,}\")\n",
        "print(f\"Complete matches (Order + Shipment + Invoice): {three_way['Complete_Match'].sum():,}\")\n",
        "print(f\"Incomplete matches: {(~three_way['Complete_Match']).sum():,}\")\n",
        "print(f\"\\nBreakdown:\")\n",
        "print(f\"  Has Invoice + Order BUT NO shipment: {(three_way['Has_Order'] & ~three_way['Has_Shipment']).sum():,}\")\n"
      ]
    },
    {
      "cell_type": "markdown",
      "metadata": {},
      "source": [
        "## Step 4: Identify and Analyze Exceptions\n",
        "\n",
        "**CRITICAL FINDING: Invoiced but NOT Shipped**\n",
        "\n",
        "This is the most serious exception - revenue was recognized but goods were never delivered to customers. This violates the existence/occurrence assertion.\n"
      ]
    },
    {
      "cell_type": "code",
      "execution_count": 16,
      "metadata": {},
      "outputs": [
        {
          "name": "stdout",
          "output_type": "stream",
          "text": [
            "CRITICAL EXCEPTION: Invoiced but NOT Shipped\n",
            "======================================================================\n",
            "Number of transactions: 2\n",
            "Total revenue improperly recognized: $171,080.00\n",
            "Percentage of 2017 revenue: 0.20%\n",
            "\n",
            "All exceptions occurred on: ['2017-12-31']\n",
            "\n",
            "Columns available: ['InvoiceID', 'CustID_x', 'InvoiceDate', 'SalesOrderID', 'PaidDate', 'ModifiedDate', 'ModifiedTime', 'SubTotal', 'TerritoryID', 'CustID_y', 'SalesOrderID_str', 'ShipID', 'ShipDate', 'Carrier', 'Has_Order', 'Has_Shipment', 'Complete_Match']\n",
            "\n",
            "Customers: ['Witchystems']\n",
            "Territories: ['West']\n"
          ]
        }
      ],
      "source": [
        "# Identify the critical exception: Invoiced in 2017 but NOT shipped\n",
        "invoiced_not_shipped = three_way[three_way['Has_Order'] & ~three_way['Has_Shipment']].copy()\n",
        "\n",
        "if len(invoiced_not_shipped) > 0:\n",
        "    print(\"CRITICAL EXCEPTION: Invoiced but NOT Shipped\")\n",
        "    print(\"=\"*70)\n",
        "    print(f\"Number of transactions: {len(invoiced_not_shipped)}\")\n",
        "    print(f\"Total revenue improperly recognized: ${invoiced_not_shipped['SubTotal'].sum():,.2f}\")\n",
        "    print(f\"Percentage of 2017 revenue: {invoiced_not_shipped['SubTotal'].sum() / three_way['SubTotal'].sum() * 100:.2f}%\")\n",
        "    print(f\"\\nAll exceptions occurred on: {sorted(pd.to_datetime(invoiced_not_shipped['InvoiceDate']).dt.strftime('%Y-%m-%d').unique())}\")\n",
        "    \n",
        "    # Debug: Check what columns we have\n",
        "    print(f\"\\nColumns available: {list(invoiced_not_shipped.columns)}\")\n",
        "    \n",
        "    # Load customer and territory lookups\n",
        "    customers = pd.read_excel('../data/UMD_Data Set_Customer Master.xlsx')\n",
        "    territory = pd.read_excel('../data/UMD_Data Set_Sales Territory.xlsx')\n",
        "    \n",
        "    # Create lookup dictionaries\n",
        "    cust_dict = dict(zip(customers['CustID'], customers['CustName']))\n",
        "    terr_dict = dict(zip(territory['TerritoryID'], territory['TerritoryName']))\n",
        "    \n",
        "    # Add names using available column (might be CustID_x or CustID_y)\n",
        "    cust_col = 'CustID' if 'CustID' in invoiced_not_shipped.columns else 'CustID_x' if 'CustID_x' in invoiced_not_shipped.columns else 'CustID_y'\n",
        "    terr_col = 'TerritoryID' if 'TerritoryID' in invoiced_not_shipped.columns else 'TerritoryID_x' if 'TerritoryID_x' in invoiced_not_shipped.columns else 'TerritoryID_y'\n",
        "    \n",
        "    invoiced_not_shipped['CustName'] = invoiced_not_shipped[cust_col].map(cust_dict)\n",
        "    invoiced_not_shipped['TerritoryName'] = invoiced_not_shipped[terr_col].map(terr_dict)\n",
        "    \n",
        "    print(f\"\\nCustomers: {sorted(invoiced_not_shipped['CustName'].unique())}\")\n",
        "    print(f\"Territories: {sorted(invoiced_not_shipped['TerritoryName'].unique())}\")\n",
        "else:\n",
        "    print(\"No invoices without shipments found.\")\n"
      ]
    },
    {
      "cell_type": "code",
      "execution_count": 17,
      "metadata": {},
      "outputs": [
        {
          "name": "stdout",
          "output_type": "stream",
          "text": [
            "\n",
            "Detailed Exception List:\n",
            "======================================================================\n",
            "\n",
            "Invoice 101775:\n",
            "  Sales Order: 3824\n",
            "  Date: 2017-12-31\n",
            "  Customer: Witchystems\n",
            "  Territory: West\n",
            "  Amount: $97,760.00\n",
            "  Payment: Unpaid\n",
            "\n",
            "Invoice 101793:\n",
            "  Sales Order: 3843\n",
            "  Date: 2017-12-31\n",
            "  Customer: Witchystems\n",
            "  Territory: West\n",
            "  Amount: $73,320.00\n",
            "  Payment: Unpaid\n",
            "\n",
            "\n",
            "Territory Analysis:\n",
            "               Count  Total Revenue\n",
            "TerritoryName                      \n",
            "West               2         171080\n"
          ]
        }
      ],
      "source": [
        "# Show detailed exception list\n",
        "if len(invoiced_not_shipped) > 0:\n",
        "    print(\"\\nDetailed Exception List:\")\n",
        "    print(\"=\"*70)\n",
        "    \n",
        "    for idx, row in invoiced_not_shipped.sort_values('SubTotal', ascending=False).iterrows():\n",
        "        paid_status = 'Unpaid' if '9999' in str(row['PaidDate']) else f\"Paid {pd.to_datetime(row['PaidDate']).strftime('%Y-%m-%d')}\"\n",
        "        print(f\"\\nInvoice {row['InvoiceID']}:\")\n",
        "        print(f\"  Sales Order: {row['SalesOrderID']}\")\n",
        "        print(f\"  Date: {row['InvoiceDate'].strftime('%Y-%m-%d')}\")\n",
        "        print(f\"  Customer: {row['CustName']}\")\n",
        "        print(f\"  Territory: {row['TerritoryName']}\")\n",
        "        print(f\"  Amount: ${row['SubTotal']:,.2f}\")\n",
        "        print(f\"  Payment: {paid_status}\")\n",
        "    \n",
        "    # Territory analysis\n",
        "    print(f\"\\n\\nTerritory Analysis:\")\n",
        "    territory_summary = invoiced_not_shipped.groupby('TerritoryName').agg({\n",
        "        'InvoiceID': 'count',\n",
        "        'SubTotal': 'sum'\n",
        "    }).sort_values('SubTotal', ascending=False)\n",
        "    territory_summary.columns = ['Count', 'Total Revenue']\n",
        "    print(territory_summary)\n"
      ]
    },
    {
      "cell_type": "markdown",
      "metadata": {},
      "source": [
        "### Interpretation: Bill-and-Hold Arrangements\n",
        "\n",
        "The case narrative states: \"In order to persuade the distributors, the Company agreed to hold the inventory in their own warehouse.\"\n",
        "\n",
        "**What we found:**\n",
        "- These transactions were invoiced but never shipped\n",
        "- This is consistent with \"bill-and-hold\" arrangements\n",
        "- Under GAAP, revenue recognition for bill-and-hold requires specific criteria to be met:\n",
        "  1. Substantive reason for arrangement\n",
        "  2. Product separately identified as belonging to customer\n",
        "  3. Ready for delivery\n",
        "  4. Company cannot use the product or direct it to another customer\n",
        "  \n",
        "**Audit concern:** These appear to be fictitious sales designed to inflate Q4 2017 revenue to meet targets and attract investment capital.\n"
      ]
    },
    {
      "cell_type": "markdown",
      "metadata": {},
      "source": [
        "## Step 5: Check for Other Exception Types\n",
        "\n",
        "Let's also check for shipped but not invoiced (potential unrecorded revenue).\n"
      ]
    },
    {
      "cell_type": "code",
      "execution_count": 18,
      "metadata": {},
      "outputs": [
        {
          "name": "stdout",
          "output_type": "stream",
          "text": [
            "Shipments in 2017 NOT invoiced in 2017:\n",
            "============================================================\n",
            "Total: 0\n",
            "Good: All 2017 shipments were invoiced in 2017\n"
          ]
        }
      ],
      "source": [
        "# Check for shipments in 2017 that weren't invoiced in 2017\n",
        "shipments['ShipDate'] = pd.to_datetime(shipments['ShipDate'])\n",
        "shipments_2017 = shipments[shipments['ShipDate'].dt.year == 2017].copy()\n",
        "\n",
        "# Merge with sales orders to get invoice info\n",
        "shipments_check = shipments_2017.merge(\n",
        "    sales_orders[['ShipID', 'InvoiceID', 'SalesOrderID', 'SubTotal']],\n",
        "    on='ShipID',\n",
        "    how='left'\n",
        ")\n",
        "\n",
        "# Check if these were invoiced (in any year)\n",
        "shipments_check = shipments_check.merge(\n",
        "    invoices[['InvoiceID', 'InvoiceDate']],\n",
        "    on='InvoiceID',\n",
        "    how='left'\n",
        ")\n",
        "\n",
        "# Identify shipped in 2017 but not invoiced in 2017\n",
        "shipped_not_invoiced_2017 = shipments_check[\n",
        "    (shipments_check['InvoiceDate'].isna()) | \n",
        "    (pd.to_datetime(shipments_check['InvoiceDate']).dt.year != 2017)\n",
        "]\n",
        "\n",
        "print(\"Shipments in 2017 NOT invoiced in 2017:\")\n",
        "print(\"=\"*60)\n",
        "print(f\"Total: {len(shipped_not_invoiced_2017)}\")\n",
        "\n",
        "if len(shipped_not_invoiced_2017) > 0:\n",
        "    print(\"\\nThese represent potential unrecorded revenue (cutoff issue)\")\n",
        "    print(f\"Potential revenue: ${shipped_not_invoiced_2017['SubTotal'].sum():,.2f}\")\n",
        "    \n",
        "    # Check when they were actually invoiced\n",
        "    invoiced_later = shipped_not_invoiced_2017[shipped_not_invoiced_2017['InvoiceDate'].notna()]\n",
        "    if len(invoiced_later) > 0:\n",
        "        print(f\"\\nOf these, {len(invoiced_later)} were invoiced in a different year:\")\n",
        "        print(pd.to_datetime(invoiced_later['InvoiceDate']).dt.year.value_counts().sort_index())\n",
        "else:\n",
        "    print(\"Good: All 2017 shipments were invoiced in 2017\")\n"
      ]
    },
    {
      "cell_type": "markdown",
      "metadata": {},
      "source": [
        "## Step 6: Summary Statistics\n"
      ]
    },
    {
      "cell_type": "code",
      "execution_count": 19,
      "metadata": {},
      "outputs": [
        {
          "name": "stdout",
          "output_type": "stream",
          "text": [
            "\n",
            "Three-Way Match Summary:\n",
            "======================================================================\n",
            "                                 Category Count Revenue Impact\n",
            "          Total 2017 Revenue Transactions  1158 $84,867,855.00\n",
            "Complete Matches (Order + Ship + Invoice)  1156 $84,696,775.00\n",
            "      EXCEPTION: Invoiced but NOT Shipped     2    $171,080.00\n",
            "                           Match Rate (%) 99.8%            N/A\n"
          ]
        }
      ],
      "source": [
        "# Create comprehensive summary\n",
        "summary_stats = pd.DataFrame({\n",
        "    'Category': [\n",
        "        'Total 2017 Revenue Transactions',\n",
        "        'Complete Matches (Order + Ship + Invoice)',\n",
        "        'EXCEPTION: Invoiced but NOT Shipped',\n",
        "        'Match Rate (%)'\n",
        "    ],\n",
        "    'Count': [\n",
        "        len(three_way),\n",
        "        three_way['Complete_Match'].sum(),\n",
        "        len(invoiced_not_shipped) if len(invoiced_not_shipped) > 0 else 0,\n",
        "        f\"{three_way['Complete_Match'].sum() / len(three_way) * 100:.1f}%\"\n",
        "    ],\n",
        "    'Revenue Impact': [\n",
        "        f\"${three_way['SubTotal'].sum():,.2f}\",\n",
        "        f\"${three_way[three_way['Complete_Match']]['SubTotal'].sum():,.2f}\",\n",
        "        f\"${invoiced_not_shipped['SubTotal'].sum():,.2f}\" if len(invoiced_not_shipped) > 0 else \"$0.00\",\n",
        "        'N/A'\n",
        "    ]\n",
        "})\n",
        "\n",
        "print(\"\\nThree-Way Match Summary:\")\n",
        "print(\"=\"*70)\n",
        "print(summary_stats.to_string(index=False))\n"
      ]
    },
    {
      "cell_type": "markdown",
      "metadata": {},
      "source": [
        "## Step 7: Export Results for Audit Memo\n"
      ]
    },
    {
      "cell_type": "code",
      "execution_count": 20,
      "metadata": {},
      "outputs": [
        {
          "name": "stdout",
          "output_type": "stream",
          "text": [
            "Saved: outputs/tables/invoiced_not_shipped.csv\n",
            "Saved: outputs/tables/three_way_match_summary.csv\n",
            "Saved: outputs/tables/three_way_match_exceptions.csv\n",
            "\n",
            "Files exported successfully\n"
          ]
        }
      ],
      "source": [
        "# Export the critical exceptions\n",
        "if len(invoiced_not_shipped) > 0:\n",
        "    # Select columns that exist\n",
        "    export_df = invoiced_not_shipped[[\n",
        "        'InvoiceID', 'SalesOrderID', 'InvoiceDate',\n",
        "        'CustName', 'TerritoryName', 'SubTotal'\n",
        "    ]].copy()\n",
        "    \n",
        "    export_df['InvoiceDate'] = export_df['InvoiceDate'].dt.strftime('%Y-%m-%d')\n",
        "    # Add payment status\n",
        "    export_df['PaymentStatus'] = invoiced_not_shipped['PaidDate'].apply(\n",
        "        lambda x: 'Unpaid' if '9999' in str(x) else 'Paid'\n",
        "    )\n",
        "    export_df = export_df.sort_values('InvoiceDate')\n",
        "    export_df.to_csv(\n",
        "        '../outputs/tables/invoiced_not_shipped.csv',\n",
        "        index=False\n",
        "    )\n",
        "    print(\"Saved: outputs/tables/invoiced_not_shipped.csv\")\n",
        "\n",
        "# Export summary statistics\n",
        "summary_stats.to_csv('../outputs/tables/three_way_match_summary.csv', index=False)\n",
        "print(\"Saved: outputs/tables/three_way_match_summary.csv\")\n",
        "\n",
        "# Export ALL exceptions (including any other types found)\n",
        "all_exceptions = three_way[~three_way['Complete_Match']].copy()\n",
        "if len(all_exceptions) > 0:\n",
        "    exception_export = all_exceptions[[\n",
        "        'InvoiceID', 'SalesOrderID', 'InvoiceDate', 'SubTotal', \n",
        "        'Has_Order', 'Has_Shipment'\n",
        "    ]].copy()\n",
        "    exception_export['InvoiceDate'] = exception_export['InvoiceDate'].dt.strftime('%Y-%m-%d')\n",
        "    exception_export = exception_export.sort_values('InvoiceDate')\n",
        "    exception_export.to_csv('../outputs/tables/three_way_match_exceptions.csv', index=False)\n",
        "    print(\"Saved: outputs/tables/three_way_match_exceptions.csv\")\n",
        "\n",
        "print(f\"\\nFiles exported successfully\")\n"
      ]
    },
    {
      "cell_type": "markdown",
      "metadata": {},
      "source": [
        "## Step 8: Visualize Exceptions\n"
      ]
    },
    {
      "cell_type": "code",
      "execution_count": 21,
      "metadata": {},
      "outputs": [
        {
          "name": "stdout",
          "output_type": "stream",
          "text": [
            "Saved: outputs/figures/three_way_match_exceptions.png\n"
          ]
        }
      ],
      "source": [
        "if len(invoiced_not_shipped) > 0:\n",
        "    # Create simple visualization\n",
        "    fig, axes = plt.subplots(1, 2, figsize=(12, 5))\n",
        "    fig.suptitle('Three-Way Match Exceptions: Invoiced but NOT Shipped', \n",
        "                 fontsize=14, fontweight='bold')\n",
        "    \n",
        "    # 1. Exceptions by amount\n",
        "    ax1 = axes[0]\n",
        "    exception_summary = invoiced_not_shipped.sort_values('SubTotal', ascending=True)\n",
        "    ax1.barh(range(len(exception_summary)), exception_summary['SubTotal'], color='darkred', alpha=0.7)\n",
        "    ax1.set_yticks(range(len(exception_summary)))\n",
        "    ax1.set_yticklabels([f\"Invoice {int(inv)}\" for inv in exception_summary['InvoiceID']])\n",
        "    ax1.set_xlabel('Revenue ($)')\n",
        "    ax1.set_title('Exception Amounts', fontweight='bold')\n",
        "    ax1.xaxis.set_major_formatter(plt.FuncFormatter(lambda x, p: f'${x/1000:.0f}K'))\n",
        "    \n",
        "    # 2. Payment status\n",
        "    ax2 = axes[1]\n",
        "    payment_status = invoiced_not_shipped['PaidDate'].apply(\n",
        "        lambda x: 'Unpaid' if '9999' in str(x) else 'Paid in 2018'\n",
        "    ).value_counts()\n",
        "    ax2.bar(range(len(payment_status)), payment_status.values, color=['#d62728', '#ff7f0e'][:len(payment_status)])\n",
        "    ax2.set_xticks(range(len(payment_status)))\n",
        "    ax2.set_xticklabels(payment_status.index, rotation=45)\n",
        "    ax2.set_ylabel('Count')\n",
        "    ax2.set_title('Payment Status', fontweight='bold')\n",
        "    \n",
        "    plt.tight_layout()\n",
        "    plt.savefig('../outputs/figures/three_way_match_exceptions.png', dpi=300, bbox_inches='tight')\n",
        "    print(\"Saved: outputs/figures/three_way_match_exceptions.png\")\n",
        "    plt.close()\n",
        "else:\n",
        "    print(\"No exceptions to visualize\")\n"
      ]
    },
    {
      "cell_type": "markdown",
      "metadata": {},
      "source": [
        "---\n",
        "\n",
        "## Summary & Audit Implications\n",
        "\n",
        "### What We Found\n",
        "\n",
        "Our independent three-way match analysis identified **2 transactions totaling $171,080** where UMD recognized revenue in 2017 despite having NO shipment record. These transactions were invoiced but the goods were never delivered to customers.\n",
        "\n",
        "**Key Characteristics of Exceptions:**\n",
        "1. **Timing:** Both exceptions occurred on 12/31/2017 (last day of fiscal year)\n",
        "2. **Cutoff Issue:** Classic year-end revenue recognition problem\n",
        "3. **Pattern:** Consistent with \"bill-and-hold\" arrangements OR premature invoicing\n",
        "4. **Testing Needed:** Subsequent events review to see if shipped in early 2018\n",
        "\n",
        "### Why This Matters for the Audit\n",
        "\n",
        "**1. Existence/Occurrence Assertion - FAILED**\n",
        "- Revenue was recognized for sales that did not occur (goods not delivered)\n",
        "- Violates fundamental revenue recognition principles\n",
        "- UMD's policy: \"invoicing triggers revenue\" BUT \"invoices when goods are shipped\"\n",
        "- These were invoiced WITHOUT shipment → improper revenue recognition\n",
        "\n",
        "**2. Cutoff Assertion - FAILED**\n",
        "- Revenue recognized prematurely (before goods delivered)\n",
        "- If goods are still in UMD's warehouse, they remain UMD's inventory\n",
        "- Revenue should not be recognized until control transfers to customer\n",
        "\n",
        "**3. Fraud Indicators Present**\n",
        "- Pressure to meet unrealistic Q4 targets (per case)\n",
        "- Need to report strong sales to attract $40M investment (per case)\n",
        "- SVP \"exerted pressure on distributors to purchase product in advance\" (per case)\n",
        "- Company \"agreed to hold inventory in their own warehouse\" (per case)\n",
        "- Pattern concentrated in Q4 = channel stuffing\n",
        "\n",
        "**4. Materiality Assessment**\n",
        "- $171K represents 0.2% of total revenue\n",
        "- Likely below performance materiality threshold\n",
        "- However, combined with other findings may become material\n",
        "- Still requires further investigation due to fraud risk\n",
        "\n",
        "### What the Fraud Triangle Shows\n",
        "\n",
        "1. **Pressure:** Need to raise investment capital, unrealistic sales targets, threatened downsizing\n",
        "2. **Opportunity:** SVP controls sales, training, delivery, AND customer service (poor segregation)\n",
        "3. **Rationalization:** \"We'll ship it early next year anyway\" or \"Distributors agreed to buy it\"\n",
        "\n",
        "### Recommended Further Testing\n",
        "\n",
        "1. **Subsequent events:** Check if the 2 invoices were shipped in January 2018\n",
        "2. **Physical inspection:** If not shipped, verify inventory is still in UMD's warehouse\n",
        "3. **Documentation review:** Examine distributor agreements for these specific transactions\n",
        "4. **Expand scope:** Test 12/31/2016 and 1/1/2018 for similar cutoff manipulation\n",
        "5. **Interview key personnel:** Question why these were invoiced without shipment\n",
        "\n",
        "### Control Failure\n",
        "\n",
        "The case states the automated three-way match control was tested with \"no exceptions noted\" at both interim and roll-forward. Our testing found 2 exceptions. This suggests:\n",
        "- The control may not operate on 12/31 year-end transactions\n",
        "- The control may have been overridden for year-end closing\n",
        "- Management may have manually created these invoices\n",
        "- Timing issue - invoices created after control testing\n",
        "\n",
        "### Bottom Line\n",
        "\n",
        "**Cutoff assertion has failed.** Two transactions totaling $171,080 were improperly recognized as 2017 revenue when the goods had not been shipped. While individually below materiality, this:\n",
        "1. Demonstrates weak controls over year-end cutoff\n",
        "2. Raises fraud risk concerns (pressure to meet targets)\n",
        "3. Requires subsequent events testing to determine if shipped\n",
        "4. May be part of a larger pattern when combined with other findings\n",
        "\n",
        "**Recommended action:** Perform subsequent events review. If goods weren't shipped by audit report date, propose adjustment to reverse revenue.\n"
      ]
    }
  ],
  "metadata": {
    "kernelspec": {
      "display_name": ".venv",
      "language": "python",
      "name": "python3"
    },
    "language_info": {
      "codemirror_mode": {
        "name": "ipython",
        "version": 3
      },
      "file_extension": ".py",
      "mimetype": "text/x-python",
      "name": "python",
      "nbconvert_exporter": "python",
      "pygments_lexer": "ipython3",
      "version": "3.13.5"
    }
  },
  "nbformat": 4,
  "nbformat_minor": 2
}
