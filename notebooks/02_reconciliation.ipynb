{
 "cells": [
  {
   "cell_type": "markdown",
   "metadata": {},
   "source": [
    "# Requirement 2: Data Reconciliation to Trial Balance\n",
    "\n",
    "---\n",
    "\n",
    "## ANSWER TO REQUIREMENT\n",
    "\n",
    "**Requirement 2a:** The $84,867,855 sales revenue is comprised of **1,158 sales order records** with InvoiceDate in calendar year 2017.\n",
    "\n",
    "**Requirement 2b:** The $11,988,886 gross accounts receivable is comprised of **148 invoice records** that were outstanding (unpaid) as of 12/31/2017.\n",
    "\n",
    "### Key Findings:\n",
    "- **Revenue Recognition:** 1,158 of 1,168 total sales orders (99.1%) were invoiced in 2017\n",
    "- **AR Composition:** The 148 outstanding invoices include:\n",
    "  - 31 invoices still unpaid as of data extraction (PaidDate = 9/9/9999)\n",
    "  - 117 invoices paid AFTER 12/31/2017 (but were in AR at year-end)\n",
    "- **Collection Performance:** 87.2% of 2017 invoices were collected by year-end (1,010 paid by 12/31/2017)\n",
    "- **Reconciliation:** Both amounts match the trial balance exactly ($0.08 rounding difference on AR)\n",
    "\n",
    "### Recommended Actions:\n",
    "- Perform aging analysis on the 148 AR invoices to identify collection risk (Requirement 6)\n",
    "- Investigate the 31 invoices still unpaid - some may be significantly past due\n",
    "- Review Q4 spike in revenue and its impact on year-end AR balance\n",
    "- Analyze payment patterns - why were 117 invoices paid in early 2018?\n",
    "\n",
    "---\n",
    "\n",
    "## Data Sources\n",
    "- `UMD_Data Set_Sales Orders.xlsx`\n",
    "- `UMD_Data Set_Customer Invoices.xlsx`\n",
    "\n",
    "## Outputs Generated\n",
    "- `outputs/tables/revenue_records_2017.csv` - Full list of 1,158 revenue transactions\n",
    "- `outputs/tables/ar_outstanding_12_31_2017.csv` - Full list of 148 AR invoices as of year-end\n",
    "- `outputs/tables/reconciliation_summary.csv` - Summary reconciliation to trial balance\n"
   ]
  },
  {
   "cell_type": "markdown",
   "metadata": {},
   "source": [
    "## Setup & Data Loading\n"
   ]
  },
  {
   "cell_type": "code",
   "execution_count": null,
   "metadata": {
    "execution": {
     "iopub.execute_input": "2025-10-02T19:30:53.778524Z",
     "iopub.status.busy": "2025-10-02T19:30:53.778341Z",
     "iopub.status.idle": "2025-10-02T19:30:53.988969Z",
     "shell.execute_reply": "2025-10-02T19:30:53.988606Z"
    }
   },
   "outputs": [
    {
     "name": "stdout",
     "output_type": "stream",
     "text": [
      "✓ Libraries loaded and output directories ready\n"
     ]
    }
   ],
   "source": [
    "import pandas as pd\n",
    "import numpy as np\n",
    "from pathlib import Path\n",
    "import warnings\n",
    "warnings.filterwarnings('ignore')\n",
    "\n",
    "# Set display options\n",
    "pd.set_option('display.max_columns', None)\n",
    "pd.set_option('display.width', None)\n",
    "pd.set_option('display.float_format', '{:.2f}'.format)\n",
    "\n",
    "# Create output directories if they don't exist\n",
    "Path('../outputs/tables').mkdir(parents=True, exist_ok=True)\n",
    "Path('../outputs/figures').mkdir(parents=True, exist_ok=True)\n",
    "\n",
    "print(\"✓ Libraries loaded and output directories ready\")\n"
   ]
  },
  {
   "cell_type": "code",
   "execution_count": null,
   "metadata": {
    "execution": {
     "iopub.execute_input": "2025-10-02T19:30:54.017765Z",
     "iopub.status.busy": "2025-10-02T19:30:54.017554Z",
     "iopub.status.idle": "2025-10-02T19:30:54.321998Z",
     "shell.execute_reply": "2025-10-02T19:30:54.321522Z"
    }
   },
   "outputs": [
    {
     "name": "stdout",
     "output_type": "stream",
     "text": [
      "✓ Sales Orders loaded: 1,168 records\n",
      "✓ Customer Invoices loaded: 1,167 records\n"
     ]
    }
   ],
   "source": [
    "# Load data files\n",
    "data_dir = Path('../data')\n",
    "\n",
    "sales_orders = pd.read_excel(data_dir / 'UMD_Data Set_Sales Orders.xlsx')\n",
    "invoices = pd.read_excel(data_dir / 'UMD_Data Set_Customer Invoices.xlsx')\n",
    "\n",
    "print(f\"✓ Sales Orders loaded: {len(sales_orders):,} records\")\n",
    "print(f\"✓ Customer Invoices loaded: {len(invoices):,} records\")\n"
   ]
  },
  {
   "cell_type": "markdown",
   "metadata": {},
   "source": [
    "## Requirement 2a: Identify Sales Revenue Records ($84,867,855)\n",
    "\n",
    "**Key Concept:** Per the case, \"The Company invoices customers when the goods are shipped, and invoicing triggers the recording of revenue.\" Therefore, revenue is recognized when InvoiceDate occurs.\n",
    "\n",
    "**Logic:** \n",
    "- Revenue is recorded when invoices are issued (not when orders are placed)\n",
    "- We need all sales orders with InvoiceDate in calendar year 2017\n",
    "- The SubTotal field contains the amount included in Sales Revenue (per data dictionary)\n"
   ]
  },
  {
   "cell_type": "code",
   "execution_count": null,
   "metadata": {
    "execution": {
     "iopub.execute_input": "2025-10-02T19:30:54.323976Z",
     "iopub.status.busy": "2025-10-02T19:30:54.323791Z",
     "iopub.status.idle": "2025-10-02T19:30:54.332804Z",
     "shell.execute_reply": "2025-10-02T19:30:54.332458Z"
    }
   },
   "outputs": [
    {
     "name": "stdout",
     "output_type": "stream",
     "text": [
      "================================================================================\n",
      "REVENUE RECONCILIATION - Requirement 2a\n",
      "================================================================================\n",
      "\n",
      "Trial Balance - Sales Revenue: $84,867,855.00\n",
      "Calculated Revenue (2017 invoices): $84,867,855.00\n",
      "Difference: $0.00\n",
      "\n",
      "Number of sales order records: 1,158\n",
      "\n",
      "Percentage of total orders: 99.1%\n",
      "================================================================================\n"
     ]
    }
   ],
   "source": [
    "# Join sales orders with invoices to get InvoiceDate\n",
    "# This links each sale to when it was actually invoiced (revenue recognition date)\n",
    "revenue_analysis = sales_orders.merge(\n",
    "    invoices[['InvoiceID', 'InvoiceDate']], \n",
    "    on='InvoiceID', \n",
    "    how='left'\n",
    ")\n",
    "\n",
    "# Filter for invoices dated in 2017\n",
    "revenue_analysis['InvoiceYear'] = revenue_analysis['InvoiceDate'].dt.year\n",
    "revenue_2017 = revenue_analysis[revenue_analysis['InvoiceYear'] == 2017].copy()\n",
    "\n",
    "# Calculate total revenue\n",
    "total_revenue = revenue_2017['SubTotal'].sum()\n",
    "record_count = len(revenue_2017)\n",
    "trial_balance_revenue = 84_867_855\n",
    "\n",
    "print(\"=\" * 80)\n",
    "print(\"REVENUE RECONCILIATION - Requirement 2a\")\n",
    "print(\"=\" * 80)\n",
    "print(f\"\\nTrial Balance - Sales Revenue: ${trial_balance_revenue:,.2f}\")\n",
    "print(f\"Calculated Revenue (2017 invoices): ${total_revenue:,.2f}\")\n",
    "print(f\"Difference: ${total_revenue - trial_balance_revenue:,.2f}\")\n",
    "print(f\"\\nNumber of sales order records: {record_count:,}\")\n",
    "print(f\"\\nPercentage of total orders: {record_count / len(sales_orders) * 100:.1f}%\")\n",
    "print(\"=\" * 80)\n"
   ]
  },
  {
   "cell_type": "markdown",
   "metadata": {},
   "source": [
    "### Revenue Distribution by Quarter\n",
    "\n",
    "Let's examine when the 2017 revenue was recognized to understand the timing pattern (particularly Q4 spike mentioned in the case).\n"
   ]
  },
  {
   "cell_type": "code",
   "execution_count": null,
   "metadata": {
    "execution": {
     "iopub.execute_input": "2025-10-02T19:30:54.334494Z",
     "iopub.status.busy": "2025-10-02T19:30:54.334341Z",
     "iopub.status.idle": "2025-10-02T19:30:54.341007Z",
     "shell.execute_reply": "2025-10-02T19:30:54.340190Z"
    }
   },
   "outputs": [
    {
     "name": "stdout",
     "output_type": "stream",
     "text": [
      "\n",
      "Quarterly Revenue Breakdown for 2017:\n",
      "------------------------------------------------------------\n",
      "Q1: $  19,268,120.00 ( 257 records,  22.7%)\n",
      "Q2: $  21,248,380.00 ( 286 records,  25.0%)\n",
      "Q3: $  20,104,965.00 ( 282 records,  23.7%)\n",
      "Q4: $  24,246,390.00 ( 333 records,  28.6%)\n",
      "------------------------------------------------------------\n"
     ]
    }
   ],
   "source": [
    "# Analyze revenue by quarter\n",
    "revenue_2017['Quarter'] = revenue_2017['InvoiceDate'].dt.quarter\n",
    "quarterly_revenue = revenue_2017.groupby('Quarter').agg({\n",
    "    'SubTotal': 'sum',\n",
    "    'SalesOrderID': 'count'\n",
    "}).rename(columns={'SalesOrderID': 'Record_Count'})\n",
    "\n",
    "quarterly_revenue['Percent_of_Revenue'] = (quarterly_revenue['SubTotal'] / total_revenue * 100)\n",
    "\n",
    "print(\"\\nQuarterly Revenue Breakdown for 2017:\")\n",
    "print(\"-\" * 60)\n",
    "for quarter in [1, 2, 3, 4]:\n",
    "    if quarter in quarterly_revenue.index:\n",
    "        rev = quarterly_revenue.loc[quarter, 'SubTotal']\n",
    "        count = quarterly_revenue.loc[quarter, 'Record_Count']\n",
    "        pct = quarterly_revenue.loc[quarter, 'Percent_of_Revenue']\n",
    "        print(f\"Q{quarter}: ${rev:>15,.2f} ({count:>4,.0f} records, {pct:>5.1f}%)\")\n",
    "print(\"-\" * 60)\n"
   ]
  },
  {
   "cell_type": "markdown",
   "metadata": {},
   "source": [
    "## Requirement 2b: Identify Accounts Receivable Records ($11,988,886)\n",
    "\n",
    "**Key Concept:** AR as of 12/31/2017 represents all invoices that were OUTSTANDING (not yet paid) as of that date. This includes invoices that were later paid in 2018.\n",
    "\n",
    "**Logic:**\n",
    "- Find all 2017 invoices where PaidDate is AFTER 12/31/2017 (includes paid in 2018 + unpaid marked 9/9/9999)\n",
    "- An invoice dated in 2017 but paid in 2018 was still in AR on 12/31/2017\n",
    "- Join to SalesOrders to get the TotalDue amount (AR balance = revenue + tax + freight)\n"
   ]
  },
  {
   "cell_type": "code",
   "execution_count": null,
   "metadata": {
    "execution": {
     "iopub.execute_input": "2025-10-02T19:30:54.342851Z",
     "iopub.status.busy": "2025-10-02T19:30:54.342698Z",
     "iopub.status.idle": "2025-10-02T19:30:54.354926Z",
     "shell.execute_reply": "2025-10-02T19:30:54.354576Z"
    }
   },
   "outputs": [
    {
     "name": "stdout",
     "output_type": "stream",
     "text": [
      "================================================================================\n",
      "ACCOUNTS RECEIVABLE RECONCILIATION - Requirement 2b\n",
      "================================================================================\n",
      "\n",
      "Trial Balance - Gross AR: $11,988,886.00\n",
      "Calculated AR (outstanding as of 12/31/2017): $11,988,886.08\n",
      "Difference: $0.08\n",
      "\n",
      "Number of outstanding invoice records: 148\n",
      "  - Still unpaid (as of data extraction): 31\n",
      "  - Paid after 12/31/2017: 117\n",
      "\n",
      "Percentage of 2017 invoices in AR at year-end: 12.8%\n",
      "================================================================================\n"
     ]
    }
   ],
   "source": [
    "# Identify AR as of 12/31/2017\n",
    "# AR includes invoices that had not been paid as of the balance sheet date\n",
    "\n",
    "# Get all 2017 invoices\n",
    "invoices_2017 = invoices[invoices['InvoiceDate'].dt.year == 2017].copy()\n",
    "\n",
    "# Convert PaidDate to datetime for comparison\n",
    "invoices_2017['PaidDate_dt'] = pd.to_datetime(invoices_2017['PaidDate'], errors='coerce')\n",
    "\n",
    "# AR = invoices where PaidDate is AFTER 12/31/2017 (or never paid)\n",
    "# This includes:\n",
    "# 1. Invoices paid in 2018 or later (PaidDate > 12/31/2017)\n",
    "# 2. Invoices still unpaid (PaidDate = 9/9/9999, which becomes 9999-09-09)\n",
    "ar_invoices = invoices_2017[\n",
    "    (invoices_2017['PaidDate_dt'] > '2017-12-31') |\n",
    "    (invoices_2017['PaidDate'].astype(str).str.contains('9999'))\n",
    "].copy()\n",
    "\n",
    "# Join to sales orders to get TotalDue amount\n",
    "ar_detail = ar_invoices.merge(\n",
    "    sales_orders[['InvoiceID', 'SalesOrderID', 'TotalDue', 'SubTotal', 'CustID', 'TerritoryID']], \n",
    "    on='InvoiceID', \n",
    "    how='left'\n",
    ")\n",
    "\n",
    "# Calculate total AR\n",
    "total_ar = ar_detail['TotalDue'].sum()\n",
    "ar_record_count = len(ar_detail)\n",
    "trial_balance_ar = 11_988_886\n",
    "\n",
    "# Breakdown by payment status\n",
    "still_unpaid = ar_invoices[ar_invoices['PaidDate'].astype(str).str.contains('9999')]\n",
    "paid_later = ar_invoices[ar_invoices['PaidDate_dt'] > '2017-12-31']\n",
    "\n",
    "print(\"=\" * 80)\n",
    "print(\"ACCOUNTS RECEIVABLE RECONCILIATION - Requirement 2b\")\n",
    "print(\"=\" * 80)\n",
    "print(f\"\\nTrial Balance - Gross AR: ${trial_balance_ar:,.2f}\")\n",
    "print(f\"Calculated AR (outstanding as of 12/31/2017): ${total_ar:,.2f}\")\n",
    "print(f\"Difference: ${total_ar - trial_balance_ar:,.2f}\")\n",
    "print(f\"\\nNumber of outstanding invoice records: {ar_record_count:,}\")\n",
    "print(f\"  - Still unpaid (as of data extraction): {len(still_unpaid):,}\")\n",
    "print(f\"  - Paid after 12/31/2017: {len(paid_later):,}\")\n",
    "print(f\"\\nPercentage of 2017 invoices in AR at year-end: {ar_record_count / len(revenue_2017) * 100:.1f}%\")\n",
    "print(\"=\" * 80)\n"
   ]
  },
  {
   "cell_type": "markdown",
   "metadata": {},
   "source": [
    "### AR Distribution Analysis\n",
    "\n",
    "Let's examine when these AR invoices were issued and when they were paid to understand collection patterns.\n"
   ]
  },
  {
   "cell_type": "code",
   "execution_count": null,
   "metadata": {
    "execution": {
     "iopub.execute_input": "2025-10-02T19:30:54.356958Z",
     "iopub.status.busy": "2025-10-02T19:30:54.356801Z",
     "iopub.status.idle": "2025-10-02T19:30:54.367400Z",
     "shell.execute_reply": "2025-10-02T19:30:54.367044Z"
    }
   },
   "outputs": [
    {
     "name": "stdout",
     "output_type": "stream",
     "text": [
      "\n",
      "AR by Invoice Quarter:\n",
      "----------------------------------------------------------------------\n",
      "Quarter           AR Balance    Count % of Total AR\n",
      "----------------------------------------------------------------------\n",
      "2017Q3       $    317,935.92        5         2.7%\n",
      "2017Q4       $ 11,670,950.16      143        97.3%\n",
      "----------------------------------------------------------------------\n",
      "\n",
      "Payment Timing for Invoices Paid After 12/31/2017:\n",
      "------------------------------------------------------------\n",
      "Month           Count          Amount\n",
      "------------------------------------------------------------\n",
      "2018-01           117 $  9,318,713.62\n",
      "------------------------------------------------------------\n",
      "\n",
      "AR Statistics:\n",
      "  Average invoice: $81,005.99\n",
      "  Median invoice: $72,377.46\n",
      "  Largest invoice: $262,878.00\n",
      "  Smallest invoice: $11,889.44\n"
     ]
    }
   ],
   "source": [
    "# Analyze AR by invoice quarter to see if Q4 spike created AR concentration\n",
    "ar_detail['InvoiceQuarter'] = ar_detail['InvoiceDate'].dt.to_period('Q')\n",
    "quarterly_ar = ar_detail.groupby('InvoiceQuarter')['TotalDue'].agg(['sum', 'count'])\n",
    "quarterly_ar.columns = ['TotalDue', 'Invoice_Count']\n",
    "\n",
    "print(\"\\nAR by Invoice Quarter:\")\n",
    "print(\"-\" * 70)\n",
    "print(f\"{'Quarter':<12} {'AR Balance':>15} {'Count':>8} {'% of Total AR':>12}\")\n",
    "print(\"-\" * 70)\n",
    "for quarter in quarterly_ar.index:\n",
    "    balance = quarterly_ar.loc[quarter, 'TotalDue']\n",
    "    count = quarterly_ar.loc[quarter, 'Invoice_Count']\n",
    "    pct = (balance / total_ar * 100)\n",
    "    print(f\"{str(quarter):<12} ${balance:>14,.2f} {count:>8.0f} {pct:>11.1f}%\")\n",
    "print(\"-\" * 70)\n",
    "\n",
    "# Analyze payment timing for those paid after year-end\n",
    "ar_paid_later = ar_detail[ar_detail['PaidDate_dt'] <= '2018-12-31'].copy()  # Exclude 9999 dates\n",
    "if len(ar_paid_later) > 0:\n",
    "    ar_paid_later['PaymentMonth'] = ar_paid_later['PaidDate_dt'].dt.to_period('M')\n",
    "    payment_timing = ar_paid_later.groupby('PaymentMonth')['TotalDue'].agg(['count', 'sum'])\n",
    "    payment_timing.columns = ['Count', 'Amount']\n",
    "    payment_timing = payment_timing.head(10)\n",
    "    \n",
    "    print(\"\\nPayment Timing for Invoices Paid After 12/31/2017:\")\n",
    "    print(\"-\" * 60)\n",
    "    print(f\"{'Month':<12} {'Count':>8} {'Amount':>15}\")\n",
    "    print(\"-\" * 60)\n",
    "    for month in payment_timing.index:\n",
    "        count = payment_timing.loc[month, 'Count']\n",
    "        amount = payment_timing.loc[month, 'Amount']\n",
    "        print(f\"{str(month):<12} {count:>8.0f} ${amount:>14,.2f}\")\n",
    "    print(\"-\" * 60)\n",
    "\n",
    "# Summary statistics\n",
    "print(f\"\\nAR Statistics:\")\n",
    "print(f\"  Average invoice: ${ar_detail['TotalDue'].mean():,.2f}\")\n",
    "print(f\"  Median invoice: ${ar_detail['TotalDue'].median():,.2f}\")\n",
    "print(f\"  Largest invoice: ${ar_detail['TotalDue'].max():,.2f}\")\n",
    "print(f\"  Smallest invoice: ${ar_detail['TotalDue'].min():,.2f}\")\n"
   ]
  },
  {
   "cell_type": "markdown",
   "metadata": {},
   "source": [
    "\n"
   ]
  },
  {
   "cell_type": "code",
   "execution_count": null,
   "metadata": {
    "execution": {
     "iopub.execute_input": "2025-10-02T19:30:54.369177Z",
     "iopub.status.busy": "2025-10-02T19:30:54.369029Z",
     "iopub.status.idle": "2025-10-02T19:30:54.385276Z",
     "shell.execute_reply": "2025-10-02T19:30:54.384935Z"
    }
   },
   "outputs": [
    {
     "name": "stdout",
     "output_type": "stream",
     "text": [
      "✓ Saved 1,158 revenue records to outputs/tables/revenue_records_2017.csv\n",
      "✓ Saved 148 AR records to outputs/tables/ar_outstanding_12_31_2017.csv\n",
      "✓ Saved reconciliation summary to outputs/tables/reconciliation_summary.csv\n",
      "\n",
      "================================================================================\n",
      "All output files saved successfully\n",
      "================================================================================\n"
     ]
    }
   ],
   "source": [
    "# Save revenue records for documentation\n",
    "revenue_export = revenue_2017[[\n",
    "    'SalesOrderID', 'InvoiceID', 'InvoiceDate', 'CustID', 'TerritoryID',\n",
    "    'ProdID', 'Quantity', 'UnitPrice', 'SubTotal', 'TotalDue'\n",
    "]].sort_values('InvoiceDate')\n",
    "\n",
    "revenue_export.to_csv('../outputs/tables/revenue_records_2017.csv', index=False)\n",
    "print(f\"✓ Saved {len(revenue_export):,} revenue records to outputs/tables/revenue_records_2017.csv\")\n",
    "\n",
    "# Save AR records for documentation\n",
    "# Use the already-merged ar_detail dataframe and select available columns\n",
    "available_cols = list(ar_detail.columns)\n",
    "export_col_map = {}\n",
    "\n",
    "# Build the export selecting the correct column names\n",
    "for col in ['InvoiceID', 'InvoiceDate', 'SalesOrderID', 'CustID', 'TerritoryID', 'SubTotal', 'TotalDue', 'PaidDate']:\n",
    "    if col in available_cols:\n",
    "        export_col_map[col] = col\n",
    "    elif f'{col}_x' in available_cols:\n",
    "        export_col_map[col] = f'{col}_x'\n",
    "    elif f'{col}_y' in available_cols:\n",
    "        export_col_map[col] = f'{col}_y'\n",
    "\n",
    "# Select and rename columns\n",
    "ar_export = ar_detail[[export_col_map[col] for col in export_col_map.keys()]].copy()\n",
    "ar_export.columns = list(export_col_map.keys())\n",
    "\n",
    "# Sort by TotalDue descending (largest balances first)\n",
    "ar_export = ar_export.sort_values('TotalDue', ascending=False)\n",
    "\n",
    "# Add a flag to show which are still unpaid vs paid later\n",
    "ar_export['Status'] = ar_export['PaidDate'].apply(\n",
    "    lambda x: 'Unpaid' if '9999' in str(x) else 'Paid in 2018'\n",
    ")\n",
    "\n",
    "ar_export.to_csv('../outputs/tables/ar_outstanding_12_31_2017.csv', index=False)\n",
    "print(f\"✓ Saved {len(ar_export):,} AR records to outputs/tables/ar_outstanding_12_31_2017.csv\")\n",
    "\n",
    "# Create reconciliation summary\n",
    "reconciliation_summary = pd.DataFrame({\n",
    "    'Account': ['Sales Revenue', 'Accounts Receivable'],\n",
    "    'Trial_Balance': [trial_balance_revenue, trial_balance_ar],\n",
    "    'Calculated_Total': [total_revenue, total_ar],\n",
    "    'Difference': [total_revenue - trial_balance_revenue, total_ar - trial_balance_ar],\n",
    "    'Record_Count': [record_count, ar_record_count],\n",
    "    'Match': ['Perfect', 'Perfect (within $0.08)']\n",
    "})\n",
    "\n",
    "reconciliation_summary.to_csv('../outputs/tables/reconciliation_summary.csv', index=False)\n",
    "print(f\"✓ Saved reconciliation summary to outputs/tables/reconciliation_summary.csv\")\n",
    "\n",
    "print(\"\\n\" + \"=\" * 80)\n",
    "print(\"All output files saved successfully\")\n",
    "print(\"=\" * 80)\n"
   ]
  },
  {
   "cell_type": "markdown",
   "metadata": {},
   "source": [
    "---\n",
    "\n",
    "## Summary & Audit Implications\n",
    "\n",
    "### What the Data Shows\n",
    "\n",
    "Our reconciliation successfully tied the trial balance amounts to the underlying transaction data with **near-perfect accuracy**:\n",
    "\n",
    "1. **Revenue ($84,867,855):** Comprises 1,158 sales orders that were invoiced during calendar year 2017. This represents 99.1% of all sales orders in the database, indicating that nearly all transactions were completed and invoiced in 2017.\n",
    "\n",
    "2. **Accounts Receivable ($11,988,886):** Comprises 148 invoices that were outstanding (unpaid) as of 12/31/2017. These break down as:\n",
    "   - 31 invoices still unpaid as of data extraction (21%)\n",
    "   - 117 invoices paid in early 2018 (79%)\n",
    "   - The 148 invoices represent 12.8% of 2017 invoices, meaning 87.2% were collected by year-end\n",
    "\n",
    "### Why This Matters for the Audit\n",
    "\n",
    "**Strong Collection Performance - Or Is It?** At first glance, an 87% collection rate within the same year appears healthy. However, several factors raise concerns:\n",
    "- The AR balance of $12M represents 14.1% of annual revenue, which is relatively high\n",
    "- 117 invoices were paid in early 2018 - this could indicate normal 30-60 day terms OR collection issues\n",
    "- 31 invoices remain unpaid - need to determine how old these are (aging analysis)\n",
    "\n",
    "**Q4 Revenue Spike Impact:** The case mentions Q4 2017 sales increased 214% YoY. Key questions:\n",
    "- Are the 148 AR invoices concentrated in Q4? (analyzed in this notebook)\n",
    "- Were Q4 sales legitimate or the result of channel stuffing / bill-and-hold arrangements?\n",
    "- Did distributors request extended payment terms to take Q4 shipments?\n",
    "\n",
    "**Bill-and-Hold Concerns:** The case mentions \"the Company agreed to hold the inventory in their own warehouse\" for some distributors. This raises serious revenue recognition issues:\n",
    "- If goods weren't delivered, revenue recognition may be premature\n",
    "- Need to identify which of the 148 AR invoices (if any) relate to bill-and-hold arrangements\n",
    "- Such arrangements would violate proper revenue recognition principles\n",
    "\n",
    "**Affected Assertions:**\n",
    "- **Existence/Occurrence:** Need to verify the 148 AR invoices represent legitimate, delivered sales\n",
    "- **Cutoff:** Critical to ensure Q4 revenue was recognized in the correct period (not bill-and-hold)\n",
    "- **Valuation:** Need to assess collectability of the $12M AR, especially the 31 still-unpaid invoices\n",
    "- **Accuracy:** Verify amounts are calculated correctly\n",
    "\n",
    "### What Further Testing is Recommended\n",
    "\n",
    "1. **Aging Analysis (Requirement 6):** Determine how many of the 148 AR invoices are >90 days past due as of 12/31/2017\n",
    "2. **Bill-and-Hold Investigation:** Identify which AR invoices (if any) involve inventory held at UMD's warehouse\n",
    "3. **Three-Way Match (Requirement 3):** Confirm all 1,158 revenue transactions have proper documentation (order → shipment → invoice)\n",
    "4. **Credit Limit Testing (Requirements 4-5):** Verify if any AR balances exceed authorized credit limits\n",
    "5. **Q4 Revenue Testing:** Examine shipping documents for Q4 sales to verify actual delivery to customers\n",
    "6. **Customer Concentration:** Identify if the $12M AR is concentrated with specific customers or territories (potential fraud indicator)\n",
    "7. **Subsequent Collections:** Verify that the 117 invoices marked as \"paid in 2018\" were actually collected\n"
   ]
  }
 ],
 "metadata": {
  "language_info": {
   "codemirror_mode": {
    "name": "ipython",
    "version": 3
   },
   "file_extension": ".py",
   "mimetype": "text/x-python",
   "name": "python",
   "nbconvert_exporter": "python",
   "pygments_lexer": "ipython3",
   "version": "3.13.5"
  }
 },
 "nbformat": 4,
 "nbformat_minor": 2
}
